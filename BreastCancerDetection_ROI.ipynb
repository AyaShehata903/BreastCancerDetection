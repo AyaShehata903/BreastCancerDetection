{
  "cells": [
    {
      "cell_type": "code",
      "execution_count": 1,
      "metadata": {
        "id": "3lVJXQpCDYPk"
      },
      "outputs": [],
      "source": [
        "import pandas as pd\n",
        "import numpy as np\n",
        "import matplotlib.pyplot as plt\n",
        "import seaborn as sns\n",
        "from PIL import Image, ImageOps\n",
        "\n",
        "from sklearn.model_selection import train_test_split\n",
        "from sklearn.metrics import confusion_matrix, classification_report\n",
        "from sklearn.preprocessing import LabelEncoder\n",
        "\n",
        "\n",
        "from tensorflow.keras.layers import Input, Dense, Dropout, BatchNormalization, Flatten, Activation, GlobalAveragePooling2D,Conv2D, MaxPooling2D\n",
        "from tensorflow.keras.applications.vgg19 import VGG19 # VGG19\n",
        "from tensorflow.keras.models import Sequential, Model\n",
        "from tensorflow.keras.layers import Conv2D, Dense, Flatten, MaxPool2D, Dropout, Input\n",
        "from tensorflow.keras.utils import plot_model\n",
        "from tensorflow.keras.callbacks import EarlyStopping, ModelCheckpoint\n",
        "from tensorflow.keras.optimizers import Adam, Adagrad\n",
        "from tensorflow.keras.utils import to_categorical\n",
        "from keras.preprocessing.image import ImageDataGenerator\n",
        "from keras import optimizers\n",
        "from keras import losses\n"
      ]
    },
    {
      "cell_type": "code",
      "execution_count": 2,
      "metadata": {
        "id": "56NTpygRbd-K",
        "colab": {
          "base_uri": "https://localhost:8080/"
        },
        "outputId": "56d3e83a-d03d-4412-f542-07ee4e7553bd"
      },
      "outputs": [
        {
          "output_type": "stream",
          "name": "stdout",
          "text": [
            "Mounted at /content/drive\n"
          ]
        }
      ],
      "source": [
        "from google.colab import drive\n",
        "drive.mount('/content/drive')"
      ]
    },
    {
      "cell_type": "code",
      "execution_count": 3,
      "metadata": {
        "id": "KxwewIXYhtuw"
      },
      "outputs": [],
      "source": [
        "def show_image(image):\n",
        "    plt.imshow(image)\n",
        "    plt.show()"
      ]
    },
    {
      "cell_type": "code",
      "execution_count": 4,
      "metadata": {
        "id": "3ywzvdD1btZ4"
      },
      "outputs": [],
      "source": [
        "def create_mias_dataset(file_path: str) -> pd.DataFrame:\n",
        "    ''' Creates a dataset with the data about the scans '''\n",
        "    # create a dataset\n",
        "    mammo = pd.read_table(file_path, delimiter='\\s', engine='python')\n",
        "    # rename the class column to avoid conflicts with the class keyword in python\n",
        "    mammo.columns = ['refnum', 'bg', 'ab_class', 'severity', 'x', 'y', 'radius']\n",
        "    # fill null severity with A for NORM class\n",
        "    # mammo.severity = mammo.severity.fillna('A')\n",
        "    # drop duplicates\n",
        "    mammo.drop_duplicates(subset='refnum', keep='first', inplace=True)\n",
        "    # set refnum as index\n",
        "    # mammo.set_index(keys='refnum', drop=True, inplace=True)\n",
        "\n",
        "    return mammo"
      ]
    },
    {
      "cell_type": "code",
      "execution_count": 5,
      "metadata": {
        "id": "w16A85IOcBpJ",
        "colab": {
          "base_uri": "https://localhost:8080/",
          "height": 423
        },
        "outputId": "39f45a14-fbc0-4c21-ebaf-5fd6c7c84e2e"
      },
      "outputs": [
        {
          "output_type": "execute_result",
          "data": {
            "text/html": [
              "\n",
              "  <div id=\"df-67b4318e-33fd-43e9-8e5f-88a21d03ae25\">\n",
              "    <div class=\"colab-df-container\">\n",
              "      <div>\n",
              "<style scoped>\n",
              "    .dataframe tbody tr th:only-of-type {\n",
              "        vertical-align: middle;\n",
              "    }\n",
              "\n",
              "    .dataframe tbody tr th {\n",
              "        vertical-align: top;\n",
              "    }\n",
              "\n",
              "    .dataframe thead th {\n",
              "        text-align: right;\n",
              "    }\n",
              "</style>\n",
              "<table border=\"1\" class=\"dataframe\">\n",
              "  <thead>\n",
              "    <tr style=\"text-align: right;\">\n",
              "      <th></th>\n",
              "      <th>refnum</th>\n",
              "      <th>bg</th>\n",
              "      <th>ab_class</th>\n",
              "      <th>severity</th>\n",
              "      <th>x</th>\n",
              "      <th>y</th>\n",
              "      <th>radius</th>\n",
              "    </tr>\n",
              "  </thead>\n",
              "  <tbody>\n",
              "    <tr>\n",
              "      <th>0</th>\n",
              "      <td>mdb001</td>\n",
              "      <td>G</td>\n",
              "      <td>CIRC</td>\n",
              "      <td>B</td>\n",
              "      <td>535.0</td>\n",
              "      <td>425.0</td>\n",
              "      <td>197.0</td>\n",
              "    </tr>\n",
              "    <tr>\n",
              "      <th>1</th>\n",
              "      <td>mdb002</td>\n",
              "      <td>G</td>\n",
              "      <td>CIRC</td>\n",
              "      <td>B</td>\n",
              "      <td>522.0</td>\n",
              "      <td>280.0</td>\n",
              "      <td>69.0</td>\n",
              "    </tr>\n",
              "    <tr>\n",
              "      <th>2</th>\n",
              "      <td>mdb003</td>\n",
              "      <td>D</td>\n",
              "      <td>NORM</td>\n",
              "      <td>None</td>\n",
              "      <td>NaN</td>\n",
              "      <td>NaN</td>\n",
              "      <td>NaN</td>\n",
              "    </tr>\n",
              "    <tr>\n",
              "      <th>3</th>\n",
              "      <td>mdb004</td>\n",
              "      <td>D</td>\n",
              "      <td>NORM</td>\n",
              "      <td>None</td>\n",
              "      <td>NaN</td>\n",
              "      <td>NaN</td>\n",
              "      <td>NaN</td>\n",
              "    </tr>\n",
              "    <tr>\n",
              "      <th>4</th>\n",
              "      <td>mdb005</td>\n",
              "      <td>F</td>\n",
              "      <td>CIRC</td>\n",
              "      <td>B</td>\n",
              "      <td>477.0</td>\n",
              "      <td>133.0</td>\n",
              "      <td>30.0</td>\n",
              "    </tr>\n",
              "    <tr>\n",
              "      <th>...</th>\n",
              "      <td>...</td>\n",
              "      <td>...</td>\n",
              "      <td>...</td>\n",
              "      <td>...</td>\n",
              "      <td>...</td>\n",
              "      <td>...</td>\n",
              "      <td>...</td>\n",
              "    </tr>\n",
              "    <tr>\n",
              "      <th>325</th>\n",
              "      <td>mdb318</td>\n",
              "      <td>D</td>\n",
              "      <td>NORM</td>\n",
              "      <td>None</td>\n",
              "      <td>NaN</td>\n",
              "      <td>NaN</td>\n",
              "      <td>NaN</td>\n",
              "    </tr>\n",
              "    <tr>\n",
              "      <th>326</th>\n",
              "      <td>mdb319</td>\n",
              "      <td>D</td>\n",
              "      <td>NORM</td>\n",
              "      <td>None</td>\n",
              "      <td>NaN</td>\n",
              "      <td>NaN</td>\n",
              "      <td>NaN</td>\n",
              "    </tr>\n",
              "    <tr>\n",
              "      <th>327</th>\n",
              "      <td>mdb320</td>\n",
              "      <td>D</td>\n",
              "      <td>NORM</td>\n",
              "      <td>None</td>\n",
              "      <td>NaN</td>\n",
              "      <td>NaN</td>\n",
              "      <td>NaN</td>\n",
              "    </tr>\n",
              "    <tr>\n",
              "      <th>328</th>\n",
              "      <td>mdb321</td>\n",
              "      <td>D</td>\n",
              "      <td>NORM</td>\n",
              "      <td>None</td>\n",
              "      <td>NaN</td>\n",
              "      <td>NaN</td>\n",
              "      <td>NaN</td>\n",
              "    </tr>\n",
              "    <tr>\n",
              "      <th>329</th>\n",
              "      <td>mdb322</td>\n",
              "      <td>D</td>\n",
              "      <td>NORM</td>\n",
              "      <td>None</td>\n",
              "      <td>NaN</td>\n",
              "      <td>NaN</td>\n",
              "      <td>NaN</td>\n",
              "    </tr>\n",
              "  </tbody>\n",
              "</table>\n",
              "<p>322 rows × 7 columns</p>\n",
              "</div>\n",
              "      <button class=\"colab-df-convert\" onclick=\"convertToInteractive('df-67b4318e-33fd-43e9-8e5f-88a21d03ae25')\"\n",
              "              title=\"Convert this dataframe to an interactive table.\"\n",
              "              style=\"display:none;\">\n",
              "        \n",
              "  <svg xmlns=\"http://www.w3.org/2000/svg\" height=\"24px\"viewBox=\"0 0 24 24\"\n",
              "       width=\"24px\">\n",
              "    <path d=\"M0 0h24v24H0V0z\" fill=\"none\"/>\n",
              "    <path d=\"M18.56 5.44l.94 2.06.94-2.06 2.06-.94-2.06-.94-.94-2.06-.94 2.06-2.06.94zm-11 1L8.5 8.5l.94-2.06 2.06-.94-2.06-.94L8.5 2.5l-.94 2.06-2.06.94zm10 10l.94 2.06.94-2.06 2.06-.94-2.06-.94-.94-2.06-.94 2.06-2.06.94z\"/><path d=\"M17.41 7.96l-1.37-1.37c-.4-.4-.92-.59-1.43-.59-.52 0-1.04.2-1.43.59L10.3 9.45l-7.72 7.72c-.78.78-.78 2.05 0 2.83L4 21.41c.39.39.9.59 1.41.59.51 0 1.02-.2 1.41-.59l7.78-7.78 2.81-2.81c.8-.78.8-2.07 0-2.86zM5.41 20L4 18.59l7.72-7.72 1.47 1.35L5.41 20z\"/>\n",
              "  </svg>\n",
              "      </button>\n",
              "      \n",
              "  <style>\n",
              "    .colab-df-container {\n",
              "      display:flex;\n",
              "      flex-wrap:wrap;\n",
              "      gap: 12px;\n",
              "    }\n",
              "\n",
              "    .colab-df-convert {\n",
              "      background-color: #E8F0FE;\n",
              "      border: none;\n",
              "      border-radius: 50%;\n",
              "      cursor: pointer;\n",
              "      display: none;\n",
              "      fill: #1967D2;\n",
              "      height: 32px;\n",
              "      padding: 0 0 0 0;\n",
              "      width: 32px;\n",
              "    }\n",
              "\n",
              "    .colab-df-convert:hover {\n",
              "      background-color: #E2EBFA;\n",
              "      box-shadow: 0px 1px 2px rgba(60, 64, 67, 0.3), 0px 1px 3px 1px rgba(60, 64, 67, 0.15);\n",
              "      fill: #174EA6;\n",
              "    }\n",
              "\n",
              "    [theme=dark] .colab-df-convert {\n",
              "      background-color: #3B4455;\n",
              "      fill: #D2E3FC;\n",
              "    }\n",
              "\n",
              "    [theme=dark] .colab-df-convert:hover {\n",
              "      background-color: #434B5C;\n",
              "      box-shadow: 0px 1px 3px 1px rgba(0, 0, 0, 0.15);\n",
              "      filter: drop-shadow(0px 1px 2px rgba(0, 0, 0, 0.3));\n",
              "      fill: #FFFFFF;\n",
              "    }\n",
              "  </style>\n",
              "\n",
              "      <script>\n",
              "        const buttonEl =\n",
              "          document.querySelector('#df-67b4318e-33fd-43e9-8e5f-88a21d03ae25 button.colab-df-convert');\n",
              "        buttonEl.style.display =\n",
              "          google.colab.kernel.accessAllowed ? 'block' : 'none';\n",
              "\n",
              "        async function convertToInteractive(key) {\n",
              "          const element = document.querySelector('#df-67b4318e-33fd-43e9-8e5f-88a21d03ae25');\n",
              "          const dataTable =\n",
              "            await google.colab.kernel.invokeFunction('convertToInteractive',\n",
              "                                                     [key], {});\n",
              "          if (!dataTable) return;\n",
              "\n",
              "          const docLinkHtml = 'Like what you see? Visit the ' +\n",
              "            '<a target=\"_blank\" href=https://colab.research.google.com/notebooks/data_table.ipynb>data table notebook</a>'\n",
              "            + ' to learn more about interactive tables.';\n",
              "          element.innerHTML = '';\n",
              "          dataTable['output_type'] = 'display_data';\n",
              "          await google.colab.output.renderOutput(dataTable, element);\n",
              "          const docLink = document.createElement('div');\n",
              "          docLink.innerHTML = docLinkHtml;\n",
              "          element.appendChild(docLink);\n",
              "        }\n",
              "      </script>\n",
              "    </div>\n",
              "  </div>\n",
              "  "
            ],
            "text/plain": [
              "     refnum bg ab_class severity      x      y  radius\n",
              "0    mdb001  G     CIRC        B  535.0  425.0   197.0\n",
              "1    mdb002  G     CIRC        B  522.0  280.0    69.0\n",
              "2    mdb003  D     NORM     None    NaN    NaN     NaN\n",
              "3    mdb004  D     NORM     None    NaN    NaN     NaN\n",
              "4    mdb005  F     CIRC        B  477.0  133.0    30.0\n",
              "..      ... ..      ...      ...    ...    ...     ...\n",
              "325  mdb318  D     NORM     None    NaN    NaN     NaN\n",
              "326  mdb319  D     NORM     None    NaN    NaN     NaN\n",
              "327  mdb320  D     NORM     None    NaN    NaN     NaN\n",
              "328  mdb321  D     NORM     None    NaN    NaN     NaN\n",
              "329  mdb322  D     NORM     None    NaN    NaN     NaN\n",
              "\n",
              "[322 rows x 7 columns]"
            ]
          },
          "metadata": {},
          "execution_count": 5
        }
      ],
      "source": [
        "mias = create_mias_dataset('/content/drive/MyDrive/Dataset/Info.txt')\n",
        "mias"
      ]
    },
    {
      "cell_type": "code",
      "execution_count": 6,
      "metadata": {
        "id": "_3d2tnXrDIFT",
        "colab": {
          "base_uri": "https://localhost:8080/",
          "height": 423
        },
        "outputId": "dd5e4ded-e053-4e4e-8990-8ba4c3182a06"
      },
      "outputs": [
        {
          "output_type": "execute_result",
          "data": {
            "text/html": [
              "\n",
              "  <div id=\"df-cf9f78f7-0a62-4a9f-b4ce-23784da30ac8\">\n",
              "    <div class=\"colab-df-container\">\n",
              "      <div>\n",
              "<style scoped>\n",
              "    .dataframe tbody tr th:only-of-type {\n",
              "        vertical-align: middle;\n",
              "    }\n",
              "\n",
              "    .dataframe tbody tr th {\n",
              "        vertical-align: top;\n",
              "    }\n",
              "\n",
              "    .dataframe thead th {\n",
              "        text-align: right;\n",
              "    }\n",
              "</style>\n",
              "<table border=\"1\" class=\"dataframe\">\n",
              "  <thead>\n",
              "    <tr style=\"text-align: right;\">\n",
              "      <th></th>\n",
              "      <th>refnum</th>\n",
              "      <th>bg</th>\n",
              "      <th>ab_class</th>\n",
              "      <th>severity</th>\n",
              "      <th>x</th>\n",
              "      <th>y</th>\n",
              "      <th>radius</th>\n",
              "    </tr>\n",
              "  </thead>\n",
              "  <tbody>\n",
              "    <tr>\n",
              "      <th>0</th>\n",
              "      <td>mdb001</td>\n",
              "      <td>G</td>\n",
              "      <td>CIRC</td>\n",
              "      <td>B</td>\n",
              "      <td>535.0</td>\n",
              "      <td>425.0</td>\n",
              "      <td>197.0</td>\n",
              "    </tr>\n",
              "    <tr>\n",
              "      <th>1</th>\n",
              "      <td>mdb002</td>\n",
              "      <td>G</td>\n",
              "      <td>CIRC</td>\n",
              "      <td>B</td>\n",
              "      <td>522.0</td>\n",
              "      <td>280.0</td>\n",
              "      <td>69.0</td>\n",
              "    </tr>\n",
              "    <tr>\n",
              "      <th>2</th>\n",
              "      <td>mdb005</td>\n",
              "      <td>F</td>\n",
              "      <td>CIRC</td>\n",
              "      <td>B</td>\n",
              "      <td>477.0</td>\n",
              "      <td>133.0</td>\n",
              "      <td>30.0</td>\n",
              "    </tr>\n",
              "    <tr>\n",
              "      <th>3</th>\n",
              "      <td>mdb010</td>\n",
              "      <td>F</td>\n",
              "      <td>CIRC</td>\n",
              "      <td>B</td>\n",
              "      <td>525.0</td>\n",
              "      <td>425.0</td>\n",
              "      <td>33.0</td>\n",
              "    </tr>\n",
              "    <tr>\n",
              "      <th>4</th>\n",
              "      <td>mdb012</td>\n",
              "      <td>F</td>\n",
              "      <td>CIRC</td>\n",
              "      <td>B</td>\n",
              "      <td>471.0</td>\n",
              "      <td>458.0</td>\n",
              "      <td>40.0</td>\n",
              "    </tr>\n",
              "    <tr>\n",
              "      <th>...</th>\n",
              "      <td>...</td>\n",
              "      <td>...</td>\n",
              "      <td>...</td>\n",
              "      <td>...</td>\n",
              "      <td>...</td>\n",
              "      <td>...</td>\n",
              "      <td>...</td>\n",
              "    </tr>\n",
              "    <tr>\n",
              "      <th>110</th>\n",
              "      <td>mdb274</td>\n",
              "      <td>F</td>\n",
              "      <td>MISC</td>\n",
              "      <td>M</td>\n",
              "      <td>127.0</td>\n",
              "      <td>505.0</td>\n",
              "      <td>123.0</td>\n",
              "    </tr>\n",
              "    <tr>\n",
              "      <th>111</th>\n",
              "      <td>mdb290</td>\n",
              "      <td>D</td>\n",
              "      <td>CIRC</td>\n",
              "      <td>B</td>\n",
              "      <td>337.0</td>\n",
              "      <td>353.0</td>\n",
              "      <td>45.0</td>\n",
              "    </tr>\n",
              "    <tr>\n",
              "      <th>112</th>\n",
              "      <td>mdb312</td>\n",
              "      <td>F</td>\n",
              "      <td>MISC</td>\n",
              "      <td>B</td>\n",
              "      <td>240.0</td>\n",
              "      <td>263.0</td>\n",
              "      <td>20.0</td>\n",
              "    </tr>\n",
              "    <tr>\n",
              "      <th>113</th>\n",
              "      <td>mdb314</td>\n",
              "      <td>F</td>\n",
              "      <td>MISC</td>\n",
              "      <td>B</td>\n",
              "      <td>518.0</td>\n",
              "      <td>191.0</td>\n",
              "      <td>39.0</td>\n",
              "    </tr>\n",
              "    <tr>\n",
              "      <th>114</th>\n",
              "      <td>mdb315</td>\n",
              "      <td>D</td>\n",
              "      <td>CIRC</td>\n",
              "      <td>B</td>\n",
              "      <td>516.0</td>\n",
              "      <td>447.0</td>\n",
              "      <td>93.0</td>\n",
              "    </tr>\n",
              "  </tbody>\n",
              "</table>\n",
              "<p>115 rows × 7 columns</p>\n",
              "</div>\n",
              "      <button class=\"colab-df-convert\" onclick=\"convertToInteractive('df-cf9f78f7-0a62-4a9f-b4ce-23784da30ac8')\"\n",
              "              title=\"Convert this dataframe to an interactive table.\"\n",
              "              style=\"display:none;\">\n",
              "        \n",
              "  <svg xmlns=\"http://www.w3.org/2000/svg\" height=\"24px\"viewBox=\"0 0 24 24\"\n",
              "       width=\"24px\">\n",
              "    <path d=\"M0 0h24v24H0V0z\" fill=\"none\"/>\n",
              "    <path d=\"M18.56 5.44l.94 2.06.94-2.06 2.06-.94-2.06-.94-.94-2.06-.94 2.06-2.06.94zm-11 1L8.5 8.5l.94-2.06 2.06-.94-2.06-.94L8.5 2.5l-.94 2.06-2.06.94zm10 10l.94 2.06.94-2.06 2.06-.94-2.06-.94-.94-2.06-.94 2.06-2.06.94z\"/><path d=\"M17.41 7.96l-1.37-1.37c-.4-.4-.92-.59-1.43-.59-.52 0-1.04.2-1.43.59L10.3 9.45l-7.72 7.72c-.78.78-.78 2.05 0 2.83L4 21.41c.39.39.9.59 1.41.59.51 0 1.02-.2 1.41-.59l7.78-7.78 2.81-2.81c.8-.78.8-2.07 0-2.86zM5.41 20L4 18.59l7.72-7.72 1.47 1.35L5.41 20z\"/>\n",
              "  </svg>\n",
              "      </button>\n",
              "      \n",
              "  <style>\n",
              "    .colab-df-container {\n",
              "      display:flex;\n",
              "      flex-wrap:wrap;\n",
              "      gap: 12px;\n",
              "    }\n",
              "\n",
              "    .colab-df-convert {\n",
              "      background-color: #E8F0FE;\n",
              "      border: none;\n",
              "      border-radius: 50%;\n",
              "      cursor: pointer;\n",
              "      display: none;\n",
              "      fill: #1967D2;\n",
              "      height: 32px;\n",
              "      padding: 0 0 0 0;\n",
              "      width: 32px;\n",
              "    }\n",
              "\n",
              "    .colab-df-convert:hover {\n",
              "      background-color: #E2EBFA;\n",
              "      box-shadow: 0px 1px 2px rgba(60, 64, 67, 0.3), 0px 1px 3px 1px rgba(60, 64, 67, 0.15);\n",
              "      fill: #174EA6;\n",
              "    }\n",
              "\n",
              "    [theme=dark] .colab-df-convert {\n",
              "      background-color: #3B4455;\n",
              "      fill: #D2E3FC;\n",
              "    }\n",
              "\n",
              "    [theme=dark] .colab-df-convert:hover {\n",
              "      background-color: #434B5C;\n",
              "      box-shadow: 0px 1px 3px 1px rgba(0, 0, 0, 0.15);\n",
              "      filter: drop-shadow(0px 1px 2px rgba(0, 0, 0, 0.3));\n",
              "      fill: #FFFFFF;\n",
              "    }\n",
              "  </style>\n",
              "\n",
              "      <script>\n",
              "        const buttonEl =\n",
              "          document.querySelector('#df-cf9f78f7-0a62-4a9f-b4ce-23784da30ac8 button.colab-df-convert');\n",
              "        buttonEl.style.display =\n",
              "          google.colab.kernel.accessAllowed ? 'block' : 'none';\n",
              "\n",
              "        async function convertToInteractive(key) {\n",
              "          const element = document.querySelector('#df-cf9f78f7-0a62-4a9f-b4ce-23784da30ac8');\n",
              "          const dataTable =\n",
              "            await google.colab.kernel.invokeFunction('convertToInteractive',\n",
              "                                                     [key], {});\n",
              "          if (!dataTable) return;\n",
              "\n",
              "          const docLinkHtml = 'Like what you see? Visit the ' +\n",
              "            '<a target=\"_blank\" href=https://colab.research.google.com/notebooks/data_table.ipynb>data table notebook</a>'\n",
              "            + ' to learn more about interactive tables.';\n",
              "          element.innerHTML = '';\n",
              "          dataTable['output_type'] = 'display_data';\n",
              "          await google.colab.output.renderOutput(dataTable, element);\n",
              "          const docLink = document.createElement('div');\n",
              "          docLink.innerHTML = docLinkHtml;\n",
              "          element.appendChild(docLink);\n",
              "        }\n",
              "      </script>\n",
              "    </div>\n",
              "  </div>\n",
              "  "
            ],
            "text/plain": [
              "     refnum bg ab_class severity      x      y  radius\n",
              "0    mdb001  G     CIRC        B  535.0  425.0   197.0\n",
              "1    mdb002  G     CIRC        B  522.0  280.0    69.0\n",
              "2    mdb005  F     CIRC        B  477.0  133.0    30.0\n",
              "3    mdb010  F     CIRC        B  525.0  425.0    33.0\n",
              "4    mdb012  F     CIRC        B  471.0  458.0    40.0\n",
              "..      ... ..      ...      ...    ...    ...     ...\n",
              "110  mdb274  F     MISC        M  127.0  505.0   123.0\n",
              "111  mdb290  D     CIRC        B  337.0  353.0    45.0\n",
              "112  mdb312  F     MISC        B  240.0  263.0    20.0\n",
              "113  mdb314  F     MISC        B  518.0  191.0    39.0\n",
              "114  mdb315  D     CIRC        B  516.0  447.0    93.0\n",
              "\n",
              "[115 rows x 7 columns]"
            ]
          },
          "metadata": {},
          "execution_count": 6
        }
      ],
      "source": [
        "# drop nan in severity which indicate norm \n",
        "mias.dropna(subset=['severity'], inplace=True)\n",
        "mias.reset_index(inplace=True)\n",
        "mias.drop(['index'],axis=1,inplace=True)\n",
        "mias"
      ]
    },
    {
      "cell_type": "code",
      "execution_count": 7,
      "metadata": {
        "id": "b1q35pW5dOXA"
      },
      "outputs": [],
      "source": [
        "# make x and y float values\n",
        "mias.x = mias.x.astype(float)\n",
        "mias.y = mias.y.astype(float)"
      ]
    },
    {
      "cell_type": "code",
      "execution_count": 8,
      "metadata": {
        "id": "QlLZlfCGQcc2"
      },
      "outputs": [],
      "source": [
        "def get_crop_coords(image_name):\n",
        "      '''Returns a tuple with x, y and r'''\n",
        "      # check scan class to decide on how to crop\n",
        "      if (np.isnan(mias[mias.refnum == image_name].radius.values[0])):\n",
        "          radius = 48.0\n",
        "      else:\n",
        "          radius = mias[mias.refnum == image_name].radius.values[0]\n",
        "\n",
        "      if (np.isnan(mias[mias.refnum == image_name].x.values[0])):\n",
        "          x = float(np.random.randint(500, 513))\n",
        "      else:\n",
        "          x = mias[mias.refnum == image_name].x.values[0]\n",
        "               \n",
        "      if (np.isnan(mias[mias.refnum == image_name].y.values[0])):\n",
        "        y = float(np.random.randint(500, 513))\n",
        "      else:\n",
        "        y = mias[mias.refnum == image_name].y.values[0]\n",
        "            \n",
        "      return (radius, 1024.0-y, x)"
      ]
    },
    {
      "cell_type": "code",
      "execution_count": 9,
      "metadata": {
        "id": "DPF_0RDSYVqU",
        "colab": {
          "base_uri": "https://localhost:8080/"
        },
        "outputId": "fec7aa1d-f372-46b5-ca34-0d9e451a78c6"
      },
      "outputs": [
        {
          "output_type": "execute_result",
          "data": {
            "text/plain": [
              "(115, 2)"
            ]
          },
          "metadata": {},
          "execution_count": 9
        }
      ],
      "source": [
        "# B = 0\n",
        "# M = 1\n",
        "lb = LabelEncoder()\n",
        "mias['severity'] = lb.fit_transform(mias['severity'])\n",
        "labels= to_categorical(mias['severity'])\n",
        "labels = np.asarray(labels)\n",
        "\n",
        "labels.shape"
      ]
    },
    {
      "cell_type": "code",
      "execution_count": 10,
      "metadata": {
        "id": "MemZHneoX4Yj"
      },
      "outputs": [],
      "source": [
        "# images path\n",
        "path= '/content/drive/MyDrive/Dataset/all-mias/'\n",
        "\n",
        "# define the every images filepaths in to list\n",
        "images = []\n",
        "final_labels=[]\n",
        "\n",
        "for i in range(len(mias)):\n",
        "  r,y,x= get_crop_coords(mias.refnum[i])\n",
        "  image_address= path + mias.refnum[i]+ '.pgm'\n",
        "  image = Image.open(image_address,mode='r')\n",
        "  image = image.convert('RGB')\n",
        "  cropped_img = image.crop((x-r, y-r, x+r, y+r))\n",
        "  equalized_img = ImageOps.equalize(cropped_img, mask = None)\n",
        "  final_image= equalized_img.resize((48,48))\n",
        "  # images.append(np.asarray(final_image))\n",
        "  for angle in (0, 90, 180, 270):\n",
        "    rotated = final_image.rotate(angle) # rotated by angle\n",
        "    mirr_tp = rotated.transpose(Image.FLIP_TOP_BOTTOM)\n",
        "    mirr_lr = rotated.transpose(Image.FLIP_LEFT_RIGHT)\n",
        "    images.extend([np.asarray(rotated),np.asarray(mirr_tp),np.asarray(mirr_lr)])\n",
        "    final_labels.extend([labels[i],labels[i],labels[i]])"
      ]
    },
    {
      "cell_type": "code",
      "execution_count": 11,
      "metadata": {
        "id": "K_NnA3pC6bxb",
        "colab": {
          "base_uri": "https://localhost:8080/"
        },
        "outputId": "5818544e-7dba-4efe-b5a9-bad1fedaf35c"
      },
      "outputs": [
        {
          "output_type": "execute_result",
          "data": {
            "text/plain": [
              "(1380, 48, 48, 3)"
            ]
          },
          "metadata": {},
          "execution_count": 11
        }
      ],
      "source": [
        "images = np.asarray(images)\n",
        "images.shape"
      ]
    },
    {
      "cell_type": "code",
      "execution_count": 13,
      "metadata": {
        "id": "OLMedLR_ihEr",
        "colab": {
          "base_uri": "https://localhost:8080/"
        },
        "outputId": "ac99eba3-ad61-4374-e211-a1251320edfc"
      },
      "outputs": [
        {
          "output_type": "execute_result",
          "data": {
            "text/plain": [
              "(1380, 2)"
            ]
          },
          "metadata": {},
          "execution_count": 13
        }
      ],
      "source": [
        "final_labels = np.asarray(final_labels)\n",
        "final_labels.shape"
      ]
    },
    {
      "cell_type": "code",
      "execution_count": 14,
      "metadata": {
        "id": "z6N4uELI5uZ1"
      },
      "outputs": [],
      "source": [
        "x_train, x_test, y_train, y_test = train_test_split(images, final_labels, test_size=0.15, random_state=2021,shuffle=True)"
      ]
    },
    {
      "cell_type": "code",
      "execution_count": 15,
      "metadata": {
        "id": "iWiDdlB5937-",
        "colab": {
          "base_uri": "https://localhost:8080/"
        },
        "outputId": "f7cd477a-692d-4438-e316-632ec69ae93d"
      },
      "outputs": [
        {
          "output_type": "execute_result",
          "data": {
            "text/plain": [
              "(1173, 48, 48, 3)"
            ]
          },
          "metadata": {},
          "execution_count": 15
        }
      ],
      "source": [
        "x_train.shape"
      ]
    },
    {
      "cell_type": "code",
      "execution_count": 16,
      "metadata": {
        "id": "ARGPxzvJ-E2h",
        "colab": {
          "base_uri": "https://localhost:8080/"
        },
        "outputId": "7fa839fa-4154-4a17-d33d-2230d3cb8b5a"
      },
      "outputs": [
        {
          "output_type": "execute_result",
          "data": {
            "text/plain": [
              "(207, 48, 48, 3)"
            ]
          },
          "metadata": {},
          "execution_count": 16
        }
      ],
      "source": [
        "x_test.shape"
      ]
    },
    {
      "cell_type": "code",
      "execution_count": 17,
      "metadata": {
        "id": "BQzQWSL66D2W",
        "colab": {
          "base_uri": "https://localhost:8080/"
        },
        "outputId": "014d870e-bdd9-4f9c-82c5-942b90f74f45"
      },
      "outputs": [
        {
          "output_type": "stream",
          "name": "stdout",
          "text": [
            "Downloading data from https://storage.googleapis.com/tensorflow/keras-applications/vgg19/vgg19_weights_tf_dim_ordering_tf_kernels_notop.h5\n",
            "80142336/80134624 [==============================] - 1s 0us/step\n",
            "80150528/80134624 [==============================] - 1s 0us/step\n",
            "Model: \"sequential\"\n",
            "_________________________________________________________________\n",
            " Layer (type)                Output Shape              Param #   \n",
            "=================================================================\n",
            " vgg19 (Functional)          (None, 1, 1, 512)         20024384  \n",
            "                                                                 \n",
            " dropout (Dropout)           (None, 1, 1, 512)         0         \n",
            "                                                                 \n",
            " flatten (Flatten)           (None, 512)               0         \n",
            "                                                                 \n",
            " batch_normalization (BatchN  (None, 512)              2048      \n",
            " ormalization)                                                   \n",
            "                                                                 \n",
            " dense (Dense)               (None, 1024)              525312    \n",
            "                                                                 \n",
            " batch_normalization_1 (Batc  (None, 1024)             4096      \n",
            " hNormalization)                                                 \n",
            "                                                                 \n",
            " activation (Activation)     (None, 1024)              0         \n",
            "                                                                 \n",
            " dropout_1 (Dropout)         (None, 1024)              0         \n",
            "                                                                 \n",
            " dense_1 (Dense)             (None, 1024)              1049600   \n",
            "                                                                 \n",
            " batch_normalization_2 (Batc  (None, 1024)             4096      \n",
            " hNormalization)                                                 \n",
            "                                                                 \n",
            " activation_1 (Activation)   (None, 1024)              0         \n",
            "                                                                 \n",
            " dropout_2 (Dropout)         (None, 1024)              0         \n",
            "                                                                 \n",
            " dense_2 (Dense)             (None, 1024)              1049600   \n",
            "                                                                 \n",
            " batch_normalization_3 (Batc  (None, 1024)             4096      \n",
            " hNormalization)                                                 \n",
            "                                                                 \n",
            " activation_2 (Activation)   (None, 1024)              0         \n",
            "                                                                 \n",
            " dropout_3 (Dropout)         (None, 1024)              0         \n",
            "                                                                 \n",
            " dense_3 (Dense)             (None, 2)                 2050      \n",
            "                                                                 \n",
            "=================================================================\n",
            "Total params: 22,665,282\n",
            "Trainable params: 2,633,730\n",
            "Non-trainable params: 20,031,552\n",
            "_________________________________________________________________\n"
          ]
        }
      ],
      "source": [
        "base_model = VGG19(input_shape=(48,48,3), weights='imagenet', include_top=False)\n",
        "model=Sequential()\n",
        "model.add(base_model)\n",
        "model.add(Dropout(0.2))\n",
        "model.add(Flatten())\n",
        "model.add(BatchNormalization())\n",
        "model.add(Dense(1024,kernel_initializer='he_uniform'))\n",
        "model.add(BatchNormalization())\n",
        "model.add(Activation('relu'))\n",
        "model.add(Dropout(0.2))\n",
        "model.add(Dense(1024,kernel_initializer='he_uniform'))\n",
        "model.add(BatchNormalization())\n",
        "model.add(Activation('relu'))\n",
        "model.add(Dropout(0.2))\n",
        "model.add(Dense(1024,kernel_initializer='he_uniform'))\n",
        "model.add(BatchNormalization())\n",
        "model.add(Activation('relu'))\n",
        "model.add(Dropout(0.2))\n",
        "model.add(Dense(2,activation='softmax'))\n",
        "\n",
        "for layer in base_model.layers:\n",
        "    layer.trainable = False\n",
        "\n",
        "model.summary()"
      ]
    },
    {
      "cell_type": "code",
      "source": [
        "from tensorflow.keras.callbacks import EarlyStopping, ModelCheckpoint\n",
        "es = EarlyStopping(monitor='val_loss', mode='min', patience=6,restore_best_weights=True, verbose=1)"
      ],
      "metadata": {
        "id": "z5hzBwiWKQMx"
      },
      "execution_count": 18,
      "outputs": []
    },
    {
      "cell_type": "code",
      "source": [
        "model.compile(optimizer='adam',loss='binary_crossentropy', metrics=['accuracy'])\n",
        "history = model.fit(x_train, y_train,validation_split=0.15,shuffle=True, epochs=40, batch_size=128,callbacks=[es])"
      ],
      "metadata": {
        "id": "MHLs1iHYOT5l",
        "colab": {
          "base_uri": "https://localhost:8080/"
        },
        "outputId": "270aada7-05a1-47f7-8fda-528bc5aceca0"
      },
      "execution_count": 19,
      "outputs": [
        {
          "output_type": "stream",
          "name": "stdout",
          "text": [
            "Epoch 1/40\n",
            "8/8 [==============================] - 17s 624ms/step - loss: 0.7348 - accuracy: 0.6148 - val_loss: 1.4825 - val_accuracy: 0.6080\n",
            "Epoch 2/40\n",
            "8/8 [==============================] - 1s 115ms/step - loss: 0.4902 - accuracy: 0.7693 - val_loss: 1.0178 - val_accuracy: 0.7159\n",
            "Epoch 3/40\n",
            "8/8 [==============================] - 1s 115ms/step - loss: 0.3806 - accuracy: 0.8425 - val_loss: 0.8446 - val_accuracy: 0.7500\n",
            "Epoch 4/40\n",
            "8/8 [==============================] - 1s 116ms/step - loss: 0.3065 - accuracy: 0.8636 - val_loss: 0.8177 - val_accuracy: 0.7727\n",
            "Epoch 5/40\n",
            "8/8 [==============================] - 1s 115ms/step - loss: 0.2736 - accuracy: 0.8806 - val_loss: 0.7164 - val_accuracy: 0.8011\n",
            "Epoch 6/40\n",
            "8/8 [==============================] - 1s 115ms/step - loss: 0.2536 - accuracy: 0.8957 - val_loss: 0.4801 - val_accuracy: 0.8580\n",
            "Epoch 7/40\n",
            "8/8 [==============================] - 1s 107ms/step - loss: 0.2084 - accuracy: 0.9147 - val_loss: 0.4929 - val_accuracy: 0.8409\n",
            "Epoch 8/40\n",
            "8/8 [==============================] - 1s 106ms/step - loss: 0.1793 - accuracy: 0.9328 - val_loss: 0.5206 - val_accuracy: 0.8750\n",
            "Epoch 9/40\n",
            "8/8 [==============================] - 1s 108ms/step - loss: 0.1767 - accuracy: 0.9328 - val_loss: 0.4801 - val_accuracy: 0.8580\n",
            "Epoch 10/40\n",
            "8/8 [==============================] - 1s 116ms/step - loss: 0.1942 - accuracy: 0.9268 - val_loss: 0.4283 - val_accuracy: 0.8693\n",
            "Epoch 11/40\n",
            "8/8 [==============================] - 1s 106ms/step - loss: 0.1691 - accuracy: 0.9338 - val_loss: 0.5750 - val_accuracy: 0.8750\n",
            "Epoch 12/40\n",
            "8/8 [==============================] - 1s 106ms/step - loss: 0.1487 - accuracy: 0.9448 - val_loss: 0.6435 - val_accuracy: 0.8239\n",
            "Epoch 13/40\n",
            "8/8 [==============================] - 1s 108ms/step - loss: 0.1493 - accuracy: 0.9418 - val_loss: 0.6892 - val_accuracy: 0.8807\n",
            "Epoch 14/40\n",
            "8/8 [==============================] - 1s 115ms/step - loss: 0.1238 - accuracy: 0.9478 - val_loss: 0.3473 - val_accuracy: 0.9091\n",
            "Epoch 15/40\n",
            "8/8 [==============================] - 1s 106ms/step - loss: 0.1010 - accuracy: 0.9639 - val_loss: 0.5615 - val_accuracy: 0.8750\n",
            "Epoch 16/40\n",
            "8/8 [==============================] - 1s 107ms/step - loss: 0.0984 - accuracy: 0.9719 - val_loss: 0.4080 - val_accuracy: 0.8977\n",
            "Epoch 17/40\n",
            "8/8 [==============================] - 1s 107ms/step - loss: 0.1076 - accuracy: 0.9569 - val_loss: 0.3495 - val_accuracy: 0.8864\n",
            "Epoch 18/40\n",
            "8/8 [==============================] - 1s 117ms/step - loss: 0.0922 - accuracy: 0.9689 - val_loss: 0.3254 - val_accuracy: 0.8977\n",
            "Epoch 19/40\n",
            "8/8 [==============================] - 1s 116ms/step - loss: 0.0860 - accuracy: 0.9729 - val_loss: 0.2924 - val_accuracy: 0.9148\n",
            "Epoch 20/40\n",
            "8/8 [==============================] - 1s 119ms/step - loss: 0.0806 - accuracy: 0.9729 - val_loss: 0.2695 - val_accuracy: 0.9318\n",
            "Epoch 21/40\n",
            "8/8 [==============================] - 1s 105ms/step - loss: 0.0818 - accuracy: 0.9669 - val_loss: 0.4681 - val_accuracy: 0.9148\n",
            "Epoch 22/40\n",
            "8/8 [==============================] - 1s 108ms/step - loss: 0.0670 - accuracy: 0.9739 - val_loss: 0.3516 - val_accuracy: 0.9261\n",
            "Epoch 23/40\n",
            "8/8 [==============================] - 1s 108ms/step - loss: 0.0668 - accuracy: 0.9709 - val_loss: 0.4661 - val_accuracy: 0.9318\n",
            "Epoch 24/40\n",
            "8/8 [==============================] - 1s 117ms/step - loss: 0.0691 - accuracy: 0.9719 - val_loss: 0.3543 - val_accuracy: 0.9375\n",
            "Epoch 25/40\n",
            "8/8 [==============================] - 1s 111ms/step - loss: 0.0622 - accuracy: 0.9749 - val_loss: 0.3474 - val_accuracy: 0.9318\n",
            "Epoch 26/40\n",
            "8/8 [==============================] - ETA: 0s - loss: 0.0730 - accuracy: 0.9719Restoring model weights from the end of the best epoch: 20.\n",
            "8/8 [==============================] - 1s 117ms/step - loss: 0.0730 - accuracy: 0.9719 - val_loss: 0.4832 - val_accuracy: 0.9034\n",
            "Epoch 00026: early stopping\n"
          ]
        }
      ]
    },
    {
      "cell_type": "code",
      "source": [
        "loss_value , accuracy = model.evaluate(x_test, y_test)\n",
        "\n",
        "print('Test_loss_value = ' +str(loss_value))\n",
        "print('test_accuracy = ' + str(accuracy))"
      ],
      "metadata": {
        "id": "0ltXArKUOYET",
        "colab": {
          "base_uri": "https://localhost:8080/"
        },
        "outputId": "45159fec-3fb8-4c90-c7ee-762c9e42f0e9"
      },
      "execution_count": 20,
      "outputs": [
        {
          "output_type": "stream",
          "name": "stdout",
          "text": [
            "7/7 [==============================] - 1s 116ms/step - loss: 0.3811 - accuracy: 0.9324\n",
            "Test_loss_value = 0.38106027245521545\n",
            "test_accuracy = 0.9323671460151672\n"
          ]
        }
      ]
    },
    {
      "cell_type": "code",
      "source": [
        "#%% PLOTTING RESULTS (Train vs Validation)\n",
        "import matplotlib.pyplot as plt\n",
        "def Train_Val_Plot(acc,val_acc,loss,val_loss):\n",
        "    \n",
        "    fig, (ax1, ax2) = plt.subplots(1,2, figsize= (15,10))\n",
        "    fig.suptitle(\" MODEL'S METRICS VISUALIZATION \")\n",
        "\n",
        "    ax1.plot(range(1, len(acc) + 1), acc)\n",
        "    ax1.plot(range(1, len(val_acc) + 1), val_acc)\n",
        "    ax1.set_title('History of Accuracy')\n",
        "    ax1.set_xlabel('Epochs')\n",
        "    ax1.set_ylabel('Accuracy')\n",
        "    ax1.legend(['training', 'validation'])\n",
        "\n",
        "\n",
        "    ax2.plot(range(1, len(loss) + 1), loss)\n",
        "    ax2.plot(range(1, len(val_loss) + 1), val_loss)\n",
        "    ax2.set_title('History of Loss')\n",
        "    ax2.set_xlabel('Epochs')\n",
        "    ax2.set_ylabel('Loss')\n",
        "    ax2.legend(['training', 'validation'])\n",
        "    plt.show()\n",
        "    \n",
        "\n",
        "Train_Val_Plot(history.history['accuracy'],history.history['val_accuracy'],\n",
        "               history.history['loss'],history.history['val_loss'])"
      ],
      "metadata": {
        "id": "jYB2piF6OZSk",
        "colab": {
          "base_uri": "https://localhost:8080/",
          "height": 676
        },
        "outputId": "0f1c5e8e-f77a-414b-aee5-e69871f410df"
      },
      "execution_count": 21,
      "outputs": [
        {
          "output_type": "display_data",
          "data": {
            "image/png": "[encoded data removed]",
            "text/plain": [
              "<Figure size 1080x720 with 2 Axes>"
            ]
          },
          "metadata": {
            "needs_background": "light"
          }
        }
      ]
    },
    {
      "cell_type": "code",
      "source": [
        "predictions = model.predict(x_test)\n",
        "y_pred = [np.argmax(w) for w in predictions]"
      ],
      "metadata": {
        "id": "xDGN5CFyO2WS"
      },
      "execution_count": 22,
      "outputs": []
    },
    {
      "cell_type": "code",
      "source": [
        "y_test = [np.argmax(w) for w in y_test]"
      ],
      "metadata": {
        "id": "Y8z2sLwvO4hu"
      },
      "execution_count": 23,
      "outputs": []
    },
    {
      "cell_type": "code",
      "source": [
        "cm1 = confusion_matrix(y_test, y_pred)\n",
        "plt.figure(figsize=(12, 6))\n",
        "plt.title('the confusion matrix of the model in the train')\n",
        "sns.heatmap(cm1, annot = True, fmt = 'g' ,vmin = 0, cmap = 'binary')"
      ],
      "metadata": {
        "id": "uLfEGA0kO7YQ",
        "colab": {
          "base_uri": "https://localhost:8080/",
          "height": 408
        },
        "outputId": "3696170c-6fd0-4915-8cc8-c228f427d879"
      },
      "execution_count": 24,
      "outputs": [
        {
          "output_type": "execute_result",
          "data": {
            "text/plain": [
              "<matplotlib.axes._subplots.AxesSubplot at 0x7fb9bc96d110>"
            ]
          },
          "metadata": {},
          "execution_count": 24
        },
        {
          "output_type": "display_data",
          "data": {
            "image/png": "[encoded data removed]",
            "text/plain": [
              "<Figure size 864x432 with 2 Axes>"
            ]
          },
          "metadata": {
            "needs_background": "light"
          }
        }
      ]
    },
    {
      "cell_type": "code",
      "source": [
        "label_mapping = {\n",
        "    1: 'M',\n",
        "    0: 'B'\n",
        "}\n",
        "\n",
        "classification_report_model = classification_report(y_test, y_pred, target_names=label_mapping.values())\n",
        "print(classification_report_model)"
      ],
      "metadata": {
        "id": "RiiDkAoHO_mc",
        "colab": {
          "base_uri": "https://localhost:8080/"
        },
        "outputId": "5e5d7ca3-5c09-43a8-b2e5-9512511a4b42"
      },
      "execution_count": 25,
      "outputs": [
        {
          "output_type": "stream",
          "name": "stdout",
          "text": [
            "              precision    recall  f1-score   support\n",
            "\n",
            "           M       0.94      0.93      0.93       107\n",
            "           B       0.92      0.94      0.93       100\n",
            "\n",
            "    accuracy                           0.93       207\n",
            "   macro avg       0.93      0.93      0.93       207\n",
            "weighted avg       0.93      0.93      0.93       207\n",
            "\n"
          ]
        }
      ]
    },
    {
      "cell_type": "code",
      "source": [
        ""
      ],
      "metadata": {
        "id": "ZQ8o0ygWVtvi"
      },
      "execution_count": 25,
      "outputs": []
    }
  ],
  "metadata": {
    "accelerator": "GPU",
    "colab": {
      "collapsed_sections": [],
      "name": "BreastCancerDetection_ROI.ipynb",
      "provenance": []
    },
    "kernelspec": {
      "display_name": "Python 3",
      "name": "python3"
    },
    "language_info": {
      "name": "python"
    }
  },
  "nbformat": 4,
  "nbformat_minor": 0
}