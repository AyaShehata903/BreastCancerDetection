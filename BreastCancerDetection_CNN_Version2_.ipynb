{
  "cells": [
    {
      "cell_type": "code",
      "execution_count": null,
      "metadata": {
        "id": "3lVJXQpCDYPk"
      },
      "outputs": [],
      "source": [
        "import pandas as pd\n",
        "import numpy as np\n",
        "import matplotlib.pyplot as plt\n",
        "from sklearn.model_selection import train_test_split\n",
        "from keras.preprocessing.image import ImageDataGenerator\n",
        "from tensorflow.keras.layers import Input, Dense, Dropout, BatchNormalization, Flatten, Activation, GlobalAveragePooling2D,Conv2D, MaxPooling2D\n",
        "from tensorflow.keras.applications.vgg19 import VGG19 # VGG19\n",
        "from keras.models import Sequential\n",
        "from keras.layers import Dense, Dropout, Activation, Conv2D, MaxPool2D, Flatten\n",
        "from keras import optimizers\n",
        "from keras import losses\n",
        "from sklearn import metrics\n",
        "import seaborn as sns\n",
        "from sklearn.metrics import confusion_matrix, classification_report"
      ]
    },
    {
      "cell_type": "code",
      "execution_count": null,
      "metadata": {
        "id": "56NTpygRbd-K",
        "colab": {
          "base_uri": "https://localhost:8080/"
        },
        "outputId": "824b0040-56f2-45cb-83cf-4385d368c8dc"
      },
      "outputs": [
        {
          "output_type": "stream",
          "name": "stdout",
          "text": [
            "Mounted at /content/drive\n"
          ]
        }
      ],
      "source": [
        "from google.colab import drive\n",
        "drive.mount('/content/drive')"
      ]
    },
    {
      "cell_type": "code",
      "execution_count": null,
      "metadata": {
        "id": "KxwewIXYhtuw"
      },
      "outputs": [],
      "source": [
        "def show_image(image):\n",
        "    plt.imshow(image)\n",
        "    plt.show()"
      ]
    },
    {
      "cell_type": "code",
      "execution_count": null,
      "metadata": {
        "id": "3ywzvdD1btZ4"
      },
      "outputs": [],
      "source": [
        "def create_mias_dataset(file_path: str) -> pd.DataFrame:\n",
        "    ''' Creates a dataset with the data about the scans '''\n",
        "    # create a dataset\n",
        "    mammo = pd.read_table(file_path, delimiter='\\s', engine='python')\n",
        "    # rename the class column to avoid conflicts with the class keyword in python\n",
        "    mammo.columns = ['refnum', 'bg', 'ab_class', 'severity', 'x', 'y', 'radius']\n",
        "    # fill null severity with A for NORM class\n",
        "    # mammo.severity = mammo.severity.fillna('A')\n",
        "    # drop duplicates\n",
        "    mammo.drop_duplicates(subset='refnum', keep='first', inplace=True)\n",
        "    # set refnum as index\n",
        "    # mammo.set_index(keys='refnum', drop=True, inplace=True)\n",
        "\n",
        "    return mammo"
      ]
    },
    {
      "cell_type": "code",
      "execution_count": null,
      "metadata": {
        "id": "w16A85IOcBpJ",
        "colab": {
          "base_uri": "https://localhost:8080/",
          "height": 423
        },
        "outputId": "bf9b6907-0e16-4493-c249-9aad0885c2de"
      },
      "outputs": [
        {
          "output_type": "execute_result",
          "data": {
            "text/html": [
              "\n",
              "  <div id=\"df-3e68752b-e6c7-4763-b936-7da7bc766a66\">\n",
              "    <div class=\"colab-df-container\">\n",
              "      <div>\n",
              "<style scoped>\n",
              "    .dataframe tbody tr th:only-of-type {\n",
              "        vertical-align: middle;\n",
              "    }\n",
              "\n",
              "    .dataframe tbody tr th {\n",
              "        vertical-align: top;\n",
              "    }\n",
              "\n",
              "    .dataframe thead th {\n",
              "        text-align: right;\n",
              "    }\n",
              "</style>\n",
              "<table border=\"1\" class=\"dataframe\">\n",
              "  <thead>\n",
              "    <tr style=\"text-align: right;\">\n",
              "      <th></th>\n",
              "      <th>refnum</th>\n",
              "      <th>bg</th>\n",
              "      <th>ab_class</th>\n",
              "      <th>severity</th>\n",
              "      <th>x</th>\n",
              "      <th>y</th>\n",
              "      <th>radius</th>\n",
              "    </tr>\n",
              "  </thead>\n",
              "  <tbody>\n",
              "    <tr>\n",
              "      <th>0</th>\n",
              "      <td>mdb001</td>\n",
              "      <td>G</td>\n",
              "      <td>CIRC</td>\n",
              "      <td>B</td>\n",
              "      <td>535.0</td>\n",
              "      <td>425.0</td>\n",
              "      <td>197.0</td>\n",
              "    </tr>\n",
              "    <tr>\n",
              "      <th>1</th>\n",
              "      <td>mdb002</td>\n",
              "      <td>G</td>\n",
              "      <td>CIRC</td>\n",
              "      <td>B</td>\n",
              "      <td>522.0</td>\n",
              "      <td>280.0</td>\n",
              "      <td>69.0</td>\n",
              "    </tr>\n",
              "    <tr>\n",
              "      <th>2</th>\n",
              "      <td>mdb003</td>\n",
              "      <td>D</td>\n",
              "      <td>NORM</td>\n",
              "      <td>None</td>\n",
              "      <td>NaN</td>\n",
              "      <td>NaN</td>\n",
              "      <td>NaN</td>\n",
              "    </tr>\n",
              "    <tr>\n",
              "      <th>3</th>\n",
              "      <td>mdb004</td>\n",
              "      <td>D</td>\n",
              "      <td>NORM</td>\n",
              "      <td>None</td>\n",
              "      <td>NaN</td>\n",
              "      <td>NaN</td>\n",
              "      <td>NaN</td>\n",
              "    </tr>\n",
              "    <tr>\n",
              "      <th>4</th>\n",
              "      <td>mdb005</td>\n",
              "      <td>F</td>\n",
              "      <td>CIRC</td>\n",
              "      <td>B</td>\n",
              "      <td>477.0</td>\n",
              "      <td>133.0</td>\n",
              "      <td>30.0</td>\n",
              "    </tr>\n",
              "    <tr>\n",
              "      <th>...</th>\n",
              "      <td>...</td>\n",
              "      <td>...</td>\n",
              "      <td>...</td>\n",
              "      <td>...</td>\n",
              "      <td>...</td>\n",
              "      <td>...</td>\n",
              "      <td>...</td>\n",
              "    </tr>\n",
              "    <tr>\n",
              "      <th>325</th>\n",
              "      <td>mdb318</td>\n",
              "      <td>D</td>\n",
              "      <td>NORM</td>\n",
              "      <td>None</td>\n",
              "      <td>NaN</td>\n",
              "      <td>NaN</td>\n",
              "      <td>NaN</td>\n",
              "    </tr>\n",
              "    <tr>\n",
              "      <th>326</th>\n",
              "      <td>mdb319</td>\n",
              "      <td>D</td>\n",
              "      <td>NORM</td>\n",
              "      <td>None</td>\n",
              "      <td>NaN</td>\n",
              "      <td>NaN</td>\n",
              "      <td>NaN</td>\n",
              "    </tr>\n",
              "    <tr>\n",
              "      <th>327</th>\n",
              "      <td>mdb320</td>\n",
              "      <td>D</td>\n",
              "      <td>NORM</td>\n",
              "      <td>None</td>\n",
              "      <td>NaN</td>\n",
              "      <td>NaN</td>\n",
              "      <td>NaN</td>\n",
              "    </tr>\n",
              "    <tr>\n",
              "      <th>328</th>\n",
              "      <td>mdb321</td>\n",
              "      <td>D</td>\n",
              "      <td>NORM</td>\n",
              "      <td>None</td>\n",
              "      <td>NaN</td>\n",
              "      <td>NaN</td>\n",
              "      <td>NaN</td>\n",
              "    </tr>\n",
              "    <tr>\n",
              "      <th>329</th>\n",
              "      <td>mdb322</td>\n",
              "      <td>D</td>\n",
              "      <td>NORM</td>\n",
              "      <td>None</td>\n",
              "      <td>NaN</td>\n",
              "      <td>NaN</td>\n",
              "      <td>NaN</td>\n",
              "    </tr>\n",
              "  </tbody>\n",
              "</table>\n",
              "<p>322 rows × 7 columns</p>\n",
              "</div>\n",
              "      <button class=\"colab-df-convert\" onclick=\"convertToInteractive('df-3e68752b-e6c7-4763-b936-7da7bc766a66')\"\n",
              "              title=\"Convert this dataframe to an interactive table.\"\n",
              "              style=\"display:none;\">\n",
              "        \n",
              "  <svg xmlns=\"http://www.w3.org/2000/svg\" height=\"24px\"viewBox=\"0 0 24 24\"\n",
              "       width=\"24px\">\n",
              "    <path d=\"M0 0h24v24H0V0z\" fill=\"none\"/>\n",
              "    <path d=\"M18.56 5.44l.94 2.06.94-2.06 2.06-.94-2.06-.94-.94-2.06-.94 2.06-2.06.94zm-11 1L8.5 8.5l.94-2.06 2.06-.94-2.06-.94L8.5 2.5l-.94 2.06-2.06.94zm10 10l.94 2.06.94-2.06 2.06-.94-2.06-.94-.94-2.06-.94 2.06-2.06.94z\"/><path d=\"M17.41 7.96l-1.37-1.37c-.4-.4-.92-.59-1.43-.59-.52 0-1.04.2-1.43.59L10.3 9.45l-7.72 7.72c-.78.78-.78 2.05 0 2.83L4 21.41c.39.39.9.59 1.41.59.51 0 1.02-.2 1.41-.59l7.78-7.78 2.81-2.81c.8-.78.8-2.07 0-2.86zM5.41 20L4 18.59l7.72-7.72 1.47 1.35L5.41 20z\"/>\n",
              "  </svg>\n",
              "      </button>\n",
              "      \n",
              "  <style>\n",
              "    .colab-df-container {\n",
              "      display:flex;\n",
              "      flex-wrap:wrap;\n",
              "      gap: 12px;\n",
              "    }\n",
              "\n",
              "    .colab-df-convert {\n",
              "      background-color: #E8F0FE;\n",
              "      border: none;\n",
              "      border-radius: 50%;\n",
              "      cursor: pointer;\n",
              "      display: none;\n",
              "      fill: #1967D2;\n",
              "      height: 32px;\n",
              "      padding: 0 0 0 0;\n",
              "      width: 32px;\n",
              "    }\n",
              "\n",
              "    .colab-df-convert:hover {\n",
              "      background-color: #E2EBFA;\n",
              "      box-shadow: 0px 1px 2px rgba(60, 64, 67, 0.3), 0px 1px 3px 1px rgba(60, 64, 67, 0.15);\n",
              "      fill: #174EA6;\n",
              "    }\n",
              "\n",
              "    [theme=dark] .colab-df-convert {\n",
              "      background-color: #3B4455;\n",
              "      fill: #D2E3FC;\n",
              "    }\n",
              "\n",
              "    [theme=dark] .colab-df-convert:hover {\n",
              "      background-color: #434B5C;\n",
              "      box-shadow: 0px 1px 3px 1px rgba(0, 0, 0, 0.15);\n",
              "      filter: drop-shadow(0px 1px 2px rgba(0, 0, 0, 0.3));\n",
              "      fill: #FFFFFF;\n",
              "    }\n",
              "  </style>\n",
              "\n",
              "      <script>\n",
              "        const buttonEl =\n",
              "          document.querySelector('#df-3e68752b-e6c7-4763-b936-7da7bc766a66 button.colab-df-convert');\n",
              "        buttonEl.style.display =\n",
              "          google.colab.kernel.accessAllowed ? 'block' : 'none';\n",
              "\n",
              "        async function convertToInteractive(key) {\n",
              "          const element = document.querySelector('#df-3e68752b-e6c7-4763-b936-7da7bc766a66');\n",
              "          const dataTable =\n",
              "            await google.colab.kernel.invokeFunction('convertToInteractive',\n",
              "                                                     [key], {});\n",
              "          if (!dataTable) return;\n",
              "\n",
              "          const docLinkHtml = 'Like what you see? Visit the ' +\n",
              "            '<a target=\"_blank\" href=https://colab.research.google.com/notebooks/data_table.ipynb>data table notebook</a>'\n",
              "            + ' to learn more about interactive tables.';\n",
              "          element.innerHTML = '';\n",
              "          dataTable['output_type'] = 'display_data';\n",
              "          await google.colab.output.renderOutput(dataTable, element);\n",
              "          const docLink = document.createElement('div');\n",
              "          docLink.innerHTML = docLinkHtml;\n",
              "          element.appendChild(docLink);\n",
              "        }\n",
              "      </script>\n",
              "    </div>\n",
              "  </div>\n",
              "  "
            ],
            "text/plain": [
              "     refnum bg ab_class severity      x      y  radius\n",
              "0    mdb001  G     CIRC        B  535.0  425.0   197.0\n",
              "1    mdb002  G     CIRC        B  522.0  280.0    69.0\n",
              "2    mdb003  D     NORM     None    NaN    NaN     NaN\n",
              "3    mdb004  D     NORM     None    NaN    NaN     NaN\n",
              "4    mdb005  F     CIRC        B  477.0  133.0    30.0\n",
              "..      ... ..      ...      ...    ...    ...     ...\n",
              "325  mdb318  D     NORM     None    NaN    NaN     NaN\n",
              "326  mdb319  D     NORM     None    NaN    NaN     NaN\n",
              "327  mdb320  D     NORM     None    NaN    NaN     NaN\n",
              "328  mdb321  D     NORM     None    NaN    NaN     NaN\n",
              "329  mdb322  D     NORM     None    NaN    NaN     NaN\n",
              "\n",
              "[322 rows x 7 columns]"
            ]
          },
          "metadata": {},
          "execution_count": 5
        }
      ],
      "source": [
        "mias = create_mias_dataset('/content/drive/MyDrive/Dataset/Info.txt')\n",
        "mias"
      ]
    },
    {
      "cell_type": "code",
      "execution_count": null,
      "metadata": {
        "id": "_3d2tnXrDIFT",
        "colab": {
          "base_uri": "https://localhost:8080/",
          "height": 423
        },
        "outputId": "94d27111-9f93-4285-844b-d84472e3021a"
      },
      "outputs": [
        {
          "output_type": "execute_result",
          "data": {
            "text/html": [
              "\n",
              "  <div id=\"df-297d9781-dda5-4005-9c59-46f767863a51\">\n",
              "    <div class=\"colab-df-container\">\n",
              "      <div>\n",
              "<style scoped>\n",
              "    .dataframe tbody tr th:only-of-type {\n",
              "        vertical-align: middle;\n",
              "    }\n",
              "\n",
              "    .dataframe tbody tr th {\n",
              "        vertical-align: top;\n",
              "    }\n",
              "\n",
              "    .dataframe thead th {\n",
              "        text-align: right;\n",
              "    }\n",
              "</style>\n",
              "<table border=\"1\" class=\"dataframe\">\n",
              "  <thead>\n",
              "    <tr style=\"text-align: right;\">\n",
              "      <th></th>\n",
              "      <th>refnum</th>\n",
              "      <th>bg</th>\n",
              "      <th>ab_class</th>\n",
              "      <th>severity</th>\n",
              "      <th>x</th>\n",
              "      <th>y</th>\n",
              "      <th>radius</th>\n",
              "    </tr>\n",
              "  </thead>\n",
              "  <tbody>\n",
              "    <tr>\n",
              "      <th>0</th>\n",
              "      <td>mdb001</td>\n",
              "      <td>G</td>\n",
              "      <td>CIRC</td>\n",
              "      <td>B</td>\n",
              "      <td>535.0</td>\n",
              "      <td>425.0</td>\n",
              "      <td>197.0</td>\n",
              "    </tr>\n",
              "    <tr>\n",
              "      <th>1</th>\n",
              "      <td>mdb002</td>\n",
              "      <td>G</td>\n",
              "      <td>CIRC</td>\n",
              "      <td>B</td>\n",
              "      <td>522.0</td>\n",
              "      <td>280.0</td>\n",
              "      <td>69.0</td>\n",
              "    </tr>\n",
              "    <tr>\n",
              "      <th>2</th>\n",
              "      <td>mdb005</td>\n",
              "      <td>F</td>\n",
              "      <td>CIRC</td>\n",
              "      <td>B</td>\n",
              "      <td>477.0</td>\n",
              "      <td>133.0</td>\n",
              "      <td>30.0</td>\n",
              "    </tr>\n",
              "    <tr>\n",
              "      <th>3</th>\n",
              "      <td>mdb010</td>\n",
              "      <td>F</td>\n",
              "      <td>CIRC</td>\n",
              "      <td>B</td>\n",
              "      <td>525.0</td>\n",
              "      <td>425.0</td>\n",
              "      <td>33.0</td>\n",
              "    </tr>\n",
              "    <tr>\n",
              "      <th>4</th>\n",
              "      <td>mdb012</td>\n",
              "      <td>F</td>\n",
              "      <td>CIRC</td>\n",
              "      <td>B</td>\n",
              "      <td>471.0</td>\n",
              "      <td>458.0</td>\n",
              "      <td>40.0</td>\n",
              "    </tr>\n",
              "    <tr>\n",
              "      <th>...</th>\n",
              "      <td>...</td>\n",
              "      <td>...</td>\n",
              "      <td>...</td>\n",
              "      <td>...</td>\n",
              "      <td>...</td>\n",
              "      <td>...</td>\n",
              "      <td>...</td>\n",
              "    </tr>\n",
              "    <tr>\n",
              "      <th>110</th>\n",
              "      <td>mdb274</td>\n",
              "      <td>F</td>\n",
              "      <td>MISC</td>\n",
              "      <td>M</td>\n",
              "      <td>127.0</td>\n",
              "      <td>505.0</td>\n",
              "      <td>123.0</td>\n",
              "    </tr>\n",
              "    <tr>\n",
              "      <th>111</th>\n",
              "      <td>mdb290</td>\n",
              "      <td>D</td>\n",
              "      <td>CIRC</td>\n",
              "      <td>B</td>\n",
              "      <td>337.0</td>\n",
              "      <td>353.0</td>\n",
              "      <td>45.0</td>\n",
              "    </tr>\n",
              "    <tr>\n",
              "      <th>112</th>\n",
              "      <td>mdb312</td>\n",
              "      <td>F</td>\n",
              "      <td>MISC</td>\n",
              "      <td>B</td>\n",
              "      <td>240.0</td>\n",
              "      <td>263.0</td>\n",
              "      <td>20.0</td>\n",
              "    </tr>\n",
              "    <tr>\n",
              "      <th>113</th>\n",
              "      <td>mdb314</td>\n",
              "      <td>F</td>\n",
              "      <td>MISC</td>\n",
              "      <td>B</td>\n",
              "      <td>518.0</td>\n",
              "      <td>191.0</td>\n",
              "      <td>39.0</td>\n",
              "    </tr>\n",
              "    <tr>\n",
              "      <th>114</th>\n",
              "      <td>mdb315</td>\n",
              "      <td>D</td>\n",
              "      <td>CIRC</td>\n",
              "      <td>B</td>\n",
              "      <td>516.0</td>\n",
              "      <td>447.0</td>\n",
              "      <td>93.0</td>\n",
              "    </tr>\n",
              "  </tbody>\n",
              "</table>\n",
              "<p>115 rows × 7 columns</p>\n",
              "</div>\n",
              "      <button class=\"colab-df-convert\" onclick=\"convertToInteractive('df-297d9781-dda5-4005-9c59-46f767863a51')\"\n",
              "              title=\"Convert this dataframe to an interactive table.\"\n",
              "              style=\"display:none;\">\n",
              "        \n",
              "  <svg xmlns=\"http://www.w3.org/2000/svg\" height=\"24px\"viewBox=\"0 0 24 24\"\n",
              "       width=\"24px\">\n",
              "    <path d=\"M0 0h24v24H0V0z\" fill=\"none\"/>\n",
              "    <path d=\"M18.56 5.44l.94 2.06.94-2.06 2.06-.94-2.06-.94-.94-2.06-.94 2.06-2.06.94zm-11 1L8.5 8.5l.94-2.06 2.06-.94-2.06-.94L8.5 2.5l-.94 2.06-2.06.94zm10 10l.94 2.06.94-2.06 2.06-.94-2.06-.94-.94-2.06-.94 2.06-2.06.94z\"/><path d=\"M17.41 7.96l-1.37-1.37c-.4-.4-.92-.59-1.43-.59-.52 0-1.04.2-1.43.59L10.3 9.45l-7.72 7.72c-.78.78-.78 2.05 0 2.83L4 21.41c.39.39.9.59 1.41.59.51 0 1.02-.2 1.41-.59l7.78-7.78 2.81-2.81c.8-.78.8-2.07 0-2.86zM5.41 20L4 18.59l7.72-7.72 1.47 1.35L5.41 20z\"/>\n",
              "  </svg>\n",
              "      </button>\n",
              "      \n",
              "  <style>\n",
              "    .colab-df-container {\n",
              "      display:flex;\n",
              "      flex-wrap:wrap;\n",
              "      gap: 12px;\n",
              "    }\n",
              "\n",
              "    .colab-df-convert {\n",
              "      background-color: #E8F0FE;\n",
              "      border: none;\n",
              "      border-radius: 50%;\n",
              "      cursor: pointer;\n",
              "      display: none;\n",
              "      fill: #1967D2;\n",
              "      height: 32px;\n",
              "      padding: 0 0 0 0;\n",
              "      width: 32px;\n",
              "    }\n",
              "\n",
              "    .colab-df-convert:hover {\n",
              "      background-color: #E2EBFA;\n",
              "      box-shadow: 0px 1px 2px rgba(60, 64, 67, 0.3), 0px 1px 3px 1px rgba(60, 64, 67, 0.15);\n",
              "      fill: #174EA6;\n",
              "    }\n",
              "\n",
              "    [theme=dark] .colab-df-convert {\n",
              "      background-color: #3B4455;\n",
              "      fill: #D2E3FC;\n",
              "    }\n",
              "\n",
              "    [theme=dark] .colab-df-convert:hover {\n",
              "      background-color: #434B5C;\n",
              "      box-shadow: 0px 1px 3px 1px rgba(0, 0, 0, 0.15);\n",
              "      filter: drop-shadow(0px 1px 2px rgba(0, 0, 0, 0.3));\n",
              "      fill: #FFFFFF;\n",
              "    }\n",
              "  </style>\n",
              "\n",
              "      <script>\n",
              "        const buttonEl =\n",
              "          document.querySelector('#df-297d9781-dda5-4005-9c59-46f767863a51 button.colab-df-convert');\n",
              "        buttonEl.style.display =\n",
              "          google.colab.kernel.accessAllowed ? 'block' : 'none';\n",
              "\n",
              "        async function convertToInteractive(key) {\n",
              "          const element = document.querySelector('#df-297d9781-dda5-4005-9c59-46f767863a51');\n",
              "          const dataTable =\n",
              "            await google.colab.kernel.invokeFunction('convertToInteractive',\n",
              "                                                     [key], {});\n",
              "          if (!dataTable) return;\n",
              "\n",
              "          const docLinkHtml = 'Like what you see? Visit the ' +\n",
              "            '<a target=\"_blank\" href=https://colab.research.google.com/notebooks/data_table.ipynb>data table notebook</a>'\n",
              "            + ' to learn more about interactive tables.';\n",
              "          element.innerHTML = '';\n",
              "          dataTable['output_type'] = 'display_data';\n",
              "          await google.colab.output.renderOutput(dataTable, element);\n",
              "          const docLink = document.createElement('div');\n",
              "          docLink.innerHTML = docLinkHtml;\n",
              "          element.appendChild(docLink);\n",
              "        }\n",
              "      </script>\n",
              "    </div>\n",
              "  </div>\n",
              "  "
            ],
            "text/plain": [
              "     refnum bg ab_class severity      x      y  radius\n",
              "0    mdb001  G     CIRC        B  535.0  425.0   197.0\n",
              "1    mdb002  G     CIRC        B  522.0  280.0    69.0\n",
              "2    mdb005  F     CIRC        B  477.0  133.0    30.0\n",
              "3    mdb010  F     CIRC        B  525.0  425.0    33.0\n",
              "4    mdb012  F     CIRC        B  471.0  458.0    40.0\n",
              "..      ... ..      ...      ...    ...    ...     ...\n",
              "110  mdb274  F     MISC        M  127.0  505.0   123.0\n",
              "111  mdb290  D     CIRC        B  337.0  353.0    45.0\n",
              "112  mdb312  F     MISC        B  240.0  263.0    20.0\n",
              "113  mdb314  F     MISC        B  518.0  191.0    39.0\n",
              "114  mdb315  D     CIRC        B  516.0  447.0    93.0\n",
              "\n",
              "[115 rows x 7 columns]"
            ]
          },
          "metadata": {},
          "execution_count": 6
        }
      ],
      "source": [
        "# drop nan in severity which indicate norm \n",
        "mias.dropna(subset=['severity'], inplace=True)\n",
        "mias.reset_index(inplace=True)\n",
        "mias.drop(['index'],axis=1,inplace=True)\n",
        "mias"
      ]
    },
    {
      "cell_type": "code",
      "execution_count": null,
      "metadata": {
        "id": "b1q35pW5dOXA"
      },
      "outputs": [],
      "source": [
        "# make x and y float values\n",
        "mias.x = mias.x.astype(float)\n",
        "mias.y = mias.y.astype(float)"
      ]
    },
    {
      "cell_type": "code",
      "execution_count": null,
      "metadata": {
        "id": "QlLZlfCGQcc2"
      },
      "outputs": [],
      "source": [
        "def get_crop_coords(image_name):\n",
        "      '''Returns a tuple with x, y and r'''\n",
        "      # check scan class to decide on how to crop\n",
        "      if (np.isnan(mias[mias.refnum == image_name].radius.values[0])):\n",
        "          radius = 48.0\n",
        "      else:\n",
        "          radius = mias[mias.refnum == image_name].radius.values[0]\n",
        "\n",
        "      if (np.isnan(mias[mias.refnum == image_name].x.values[0])):\n",
        "          x = float(np.random.randint(500, 513))\n",
        "      else:\n",
        "          x = mias[mias.refnum == image_name].x.values[0]\n",
        "               \n",
        "      if (np.isnan(mias[mias.refnum == image_name].y.values[0])):\n",
        "        y = float(np.random.randint(500, 513))\n",
        "      else:\n",
        "        y = mias[mias.refnum == image_name].y.values[0]\n",
        "            \n",
        "      return (radius, 1024.0-y, x)"
      ]
    },
    {
      "cell_type": "code",
      "execution_count": null,
      "metadata": {
        "id": "Wpv2wFJqC9Lk"
      },
      "outputs": [],
      "source": [
        "# metrics\n",
        "from sklearn.metrics import confusion_matrix, classification_report\n",
        "\n",
        "\n",
        "# keras\n",
        "from tensorflow.keras.models import Sequential, Model\n",
        "from tensorflow.keras.layers import Conv2D, Dense, Flatten, MaxPool2D, Dropout, Input\n",
        "from tensorflow.keras.utils import plot_model\n",
        "from tensorflow.keras.callbacks import EarlyStopping, ModelCheckpoint\n",
        "from tensorflow.keras.optimizers import Adam, Adagrad\n",
        "from tensorflow.keras.utils import to_categorical\n"
      ]
    },
    {
      "cell_type": "code",
      "execution_count": null,
      "metadata": {
        "id": "8D6gKogubWHv"
      },
      "outputs": [],
      "source": [
        "from PIL import Image, ImageOps\n",
        "from sklearn.preprocessing import LabelEncoder"
      ]
    },
    {
      "cell_type": "code",
      "execution_count": null,
      "metadata": {
        "id": "DPF_0RDSYVqU",
        "colab": {
          "base_uri": "https://localhost:8080/"
        },
        "outputId": "49231480-747d-4450-efba-fbe241e29459"
      },
      "outputs": [
        {
          "output_type": "execute_result",
          "data": {
            "text/plain": [
              "(115, 2)"
            ]
          },
          "metadata": {},
          "execution_count": 11
        }
      ],
      "source": [
        "# B = 0\n",
        "# M = 1\n",
        "lb = LabelEncoder()\n",
        "mias['severity'] = lb.fit_transform(mias['severity'])\n",
        "labels= to_categorical(mias['severity'])\n",
        "labels = np.asarray(labels)\n",
        "\n",
        "labels.shape"
      ]
    },
    {
      "cell_type": "code",
      "execution_count": null,
      "metadata": {
        "id": "MemZHneoX4Yj"
      },
      "outputs": [],
      "source": [
        "# images path\n",
        "path= '/content/drive/MyDrive/Dataset/all-mias/'\n",
        "\n",
        "# define the every images filepaths in to list\n",
        "images = []\n",
        "final_labels=[]\n",
        "\n",
        "for i in range(len(mias)):\n",
        "  r,y,x= get_crop_coords(mias.refnum[i])\n",
        "  image_address= path + mias.refnum[i]+ '.pgm'\n",
        "  image = Image.open(image_address,mode='r')\n",
        "  image = image.convert('RGB')\n",
        "  cropped_img = image.crop((x-r, y-r, x+r, y+r))\n",
        "  equalized_img = ImageOps.equalize(cropped_img, mask = None)\n",
        "  final_image= equalized_img.resize((48,48))\n",
        "  # images.append(np.asarray(final_image))\n",
        "  for angle in (0, 90, 180, 270):\n",
        "    rotated = final_image.rotate(angle) # rotated by angle\n",
        "    mirr_tp = rotated.transpose(Image.FLIP_TOP_BOTTOM)\n",
        "    mirr_lr = rotated.transpose(Image.FLIP_LEFT_RIGHT)\n",
        "    images.extend([np.asarray(rotated),np.asarray(mirr_tp),np.asarray(mirr_lr)])\n",
        "    final_labels.extend([labels[i],labels[i],labels[i]])"
      ]
    },
    {
      "cell_type": "code",
      "execution_count": null,
      "metadata": {
        "id": "K_NnA3pC6bxb",
        "colab": {
          "base_uri": "https://localhost:8080/"
        },
        "outputId": "0b724040-a77d-4e34-9bf7-f4b7f46c1908"
      },
      "outputs": [
        {
          "output_type": "execute_result",
          "data": {
            "text/plain": [
              "(1380, 48, 48, 3)"
            ]
          },
          "metadata": {},
          "execution_count": 13
        }
      ],
      "source": [
        "images = np.asarray(images)\n",
        "images.shape"
      ]
    },
    {
      "cell_type": "code",
      "source": [
        "show_image(images[0])"
      ],
      "metadata": {
        "id": "Jfu6CLWIJxvn",
        "colab": {
          "base_uri": "https://localhost:8080/",
          "height": 266
        },
        "outputId": "c1c2135d-3c33-4b79-c502-2eb6f7b5cf8d"
      },
      "execution_count": null,
      "outputs": [
        {
          "output_type": "display_data",
          "data": {
            "image/png": "[encoded data removed]",
            "text/plain": [
              "<Figure size 432x288 with 1 Axes>"
            ]
          },
          "metadata": {
            "needs_background": "light"
          }
        }
      ]
    },
    {
      "cell_type": "code",
      "execution_count": null,
      "metadata": {
        "id": "OLMedLR_ihEr",
        "colab": {
          "base_uri": "https://localhost:8080/"
        },
        "outputId": "d5d78537-882c-4003-c040-9e872a5858c8"
      },
      "outputs": [
        {
          "output_type": "execute_result",
          "data": {
            "text/plain": [
              "(1380, 2)"
            ]
          },
          "metadata": {},
          "execution_count": 15
        }
      ],
      "source": [
        "final_labels = np.asarray(final_labels)\n",
        "final_labels.shape"
      ]
    },
    {
      "cell_type": "code",
      "execution_count": null,
      "metadata": {
        "id": "z6N4uELI5uZ1"
      },
      "outputs": [],
      "source": [
        "x_train, x_test, y_train, y_test = train_test_split(images, final_labels, test_size=0.15, random_state=2021,shuffle=True)"
      ]
    },
    {
      "cell_type": "code",
      "execution_count": null,
      "metadata": {
        "id": "iWiDdlB5937-",
        "colab": {
          "base_uri": "https://localhost:8080/"
        },
        "outputId": "30041b68-a575-4829-f2ee-262bd3c70a97"
      },
      "outputs": [
        {
          "output_type": "execute_result",
          "data": {
            "text/plain": [
              "(1173, 48, 48, 3)"
            ]
          },
          "metadata": {},
          "execution_count": 17
        }
      ],
      "source": [
        "x_train.shape"
      ]
    },
    {
      "cell_type": "code",
      "execution_count": null,
      "metadata": {
        "id": "ARGPxzvJ-E2h",
        "colab": {
          "base_uri": "https://localhost:8080/"
        },
        "outputId": "b6fd83d9-e777-416b-bd57-c7ea65d8a4d4"
      },
      "outputs": [
        {
          "output_type": "execute_result",
          "data": {
            "text/plain": [
              "(207, 48, 48, 3)"
            ]
          },
          "metadata": {},
          "execution_count": 18
        }
      ],
      "source": [
        "x_test.shape"
      ]
    },
    {
      "cell_type": "code",
      "execution_count": null,
      "metadata": {
        "id": "BQzQWSL66D2W",
        "colab": {
          "base_uri": "https://localhost:8080/"
        },
        "outputId": "1eee96d7-1e4a-4504-db8d-246abdd16655"
      },
      "outputs": [
        {
          "output_type": "stream",
          "name": "stdout",
          "text": [
            "Downloading data from https://storage.googleapis.com/tensorflow/keras-applications/vgg19/vgg19_weights_tf_dim_ordering_tf_kernels_notop.h5\n",
            "80142336/80134624 [==============================] - 1s 0us/step\n",
            "80150528/80134624 [==============================] - 1s 0us/step\n",
            "Model: \"sequential\"\n",
            "_________________________________________________________________\n",
            " Layer (type)                Output Shape              Param #   \n",
            "=================================================================\n",
            " vgg19 (Functional)          (None, 1, 1, 512)         20024384  \n",
            "                                                                 \n",
            " dropout (Dropout)           (None, 1, 1, 512)         0         \n",
            "                                                                 \n",
            " flatten (Flatten)           (None, 512)               0         \n",
            "                                                                 \n",
            " batch_normalization (BatchN  (None, 512)              2048      \n",
            " ormalization)                                                   \n",
            "                                                                 \n",
            " dense (Dense)               (None, 1024)              525312    \n",
            "                                                                 \n",
            " batch_normalization_1 (Batc  (None, 1024)             4096      \n",
            " hNormalization)                                                 \n",
            "                                                                 \n",
            " activation (Activation)     (None, 1024)              0         \n",
            "                                                                 \n",
            " dropout_1 (Dropout)         (None, 1024)              0         \n",
            "                                                                 \n",
            " dense_1 (Dense)             (None, 1024)              1049600   \n",
            "                                                                 \n",
            " batch_normalization_2 (Batc  (None, 1024)             4096      \n",
            " hNormalization)                                                 \n",
            "                                                                 \n",
            " activation_1 (Activation)   (None, 1024)              0         \n",
            "                                                                 \n",
            " dropout_2 (Dropout)         (None, 1024)              0         \n",
            "                                                                 \n",
            " dense_2 (Dense)             (None, 1024)              1049600   \n",
            "                                                                 \n",
            " batch_normalization_3 (Batc  (None, 1024)             4096      \n",
            " hNormalization)                                                 \n",
            "                                                                 \n",
            " activation_2 (Activation)   (None, 1024)              0         \n",
            "                                                                 \n",
            " dropout_3 (Dropout)         (None, 1024)              0         \n",
            "                                                                 \n",
            " dense_3 (Dense)             (None, 2)                 2050      \n",
            "                                                                 \n",
            "=================================================================\n",
            "Total params: 22,665,282\n",
            "Trainable params: 2,633,730\n",
            "Non-trainable params: 20,031,552\n",
            "_________________________________________________________________\n"
          ]
        }
      ],
      "source": [
        "base_model = VGG19(input_shape=(48,48,3), weights='imagenet', include_top=False)\n",
        "model=Sequential()\n",
        "model.add(base_model)\n",
        "model.add(Dropout(0.2))\n",
        "model.add(Flatten())\n",
        "model.add(BatchNormalization())\n",
        "model.add(Dense(1024,kernel_initializer='he_uniform'))\n",
        "model.add(BatchNormalization())\n",
        "model.add(Activation('relu'))\n",
        "model.add(Dropout(0.2))\n",
        "model.add(Dense(1024,kernel_initializer='he_uniform'))\n",
        "model.add(BatchNormalization())\n",
        "model.add(Activation('relu'))\n",
        "model.add(Dropout(0.2))\n",
        "model.add(Dense(1024,kernel_initializer='he_uniform'))\n",
        "model.add(BatchNormalization())\n",
        "model.add(Activation('relu'))\n",
        "model.add(Dropout(0.2))\n",
        "model.add(Dense(2,activation='softmax'))\n",
        "\n",
        "for layer in base_model.layers:\n",
        "    layer.trainable = False\n",
        "\n",
        "model.summary()"
      ]
    },
    {
      "cell_type": "code",
      "source": [
        "from tensorflow.keras.callbacks import EarlyStopping, ModelCheckpoint\n",
        "es = EarlyStopping(monitor='val_loss', mode='min', patience=6,restore_best_weights=True, verbose=1)"
      ],
      "metadata": {
        "id": "z5hzBwiWKQMx"
      },
      "execution_count": null,
      "outputs": []
    },
    {
      "cell_type": "code",
      "source": [
        "model.compile(optimizer='adam',loss='binary_crossentropy', metrics=['accuracy'])\n",
        "history = model.fit(x_train, y_train,validation_split=0.15,shuffle=True, epochs=40, batch_size=128,callbacks=[es])"
      ],
      "metadata": {
        "id": "MHLs1iHYOT5l",
        "colab": {
          "base_uri": "https://localhost:8080/"
        },
        "outputId": "b9c2f229-4a6f-4fac-adaa-e48deaa602a3"
      },
      "execution_count": null,
      "outputs": [
        {
          "output_type": "stream",
          "name": "stdout",
          "text": [
            "Epoch 1/40\n",
            "8/8 [==============================] - 16s 553ms/step - loss: 0.6742 - accuracy: 0.6098 - val_loss: 1.4455 - val_accuracy: 0.6080\n",
            "Epoch 2/40\n",
            "8/8 [==============================] - 1s 106ms/step - loss: 0.4567 - accuracy: 0.7844 - val_loss: 1.1957 - val_accuracy: 0.6989\n",
            "Epoch 3/40\n",
            "8/8 [==============================] - 1s 107ms/step - loss: 0.4021 - accuracy: 0.8185 - val_loss: 1.1801 - val_accuracy: 0.7273\n",
            "Epoch 4/40\n",
            "8/8 [==============================] - 1s 108ms/step - loss: 0.3294 - accuracy: 0.8566 - val_loss: 0.9974 - val_accuracy: 0.7898\n",
            "Epoch 5/40\n",
            "8/8 [==============================] - 1s 108ms/step - loss: 0.2592 - accuracy: 0.8997 - val_loss: 0.7947 - val_accuracy: 0.7955\n",
            "Epoch 6/40\n",
            "8/8 [==============================] - 1s 107ms/step - loss: 0.2144 - accuracy: 0.9107 - val_loss: 0.7740 - val_accuracy: 0.8182\n",
            "Epoch 7/40\n",
            "8/8 [==============================] - 1s 109ms/step - loss: 0.2350 - accuracy: 0.9027 - val_loss: 0.7183 - val_accuracy: 0.8239\n",
            "Epoch 8/40\n",
            "8/8 [==============================] - 1s 107ms/step - loss: 0.1626 - accuracy: 0.9318 - val_loss: 0.5338 - val_accuracy: 0.8295\n",
            "Epoch 9/40\n",
            "8/8 [==============================] - 1s 108ms/step - loss: 0.1700 - accuracy: 0.9278 - val_loss: 0.5067 - val_accuracy: 0.8466\n",
            "Epoch 10/40\n",
            "8/8 [==============================] - 1s 106ms/step - loss: 0.1434 - accuracy: 0.9438 - val_loss: 0.4500 - val_accuracy: 0.8807\n",
            "Epoch 11/40\n",
            "8/8 [==============================] - 1s 108ms/step - loss: 0.1382 - accuracy: 0.9478 - val_loss: 0.4457 - val_accuracy: 0.9091\n",
            "Epoch 12/40\n",
            "8/8 [==============================] - 1s 111ms/step - loss: 0.1490 - accuracy: 0.9358 - val_loss: 0.3515 - val_accuracy: 0.8977\n",
            "Epoch 13/40\n",
            "8/8 [==============================] - 1s 109ms/step - loss: 0.1444 - accuracy: 0.9398 - val_loss: 0.3286 - val_accuracy: 0.9034\n",
            "Epoch 14/40\n",
            "8/8 [==============================] - 1s 99ms/step - loss: 0.1061 - accuracy: 0.9589 - val_loss: 0.3823 - val_accuracy: 0.8977\n",
            "Epoch 15/40\n",
            "8/8 [==============================] - 1s 100ms/step - loss: 0.0984 - accuracy: 0.9709 - val_loss: 0.3920 - val_accuracy: 0.8807\n",
            "Epoch 16/40\n",
            "8/8 [==============================] - 1s 104ms/step - loss: 0.0889 - accuracy: 0.9689 - val_loss: 0.3436 - val_accuracy: 0.9148\n",
            "Epoch 17/40\n",
            "8/8 [==============================] - 1s 103ms/step - loss: 0.0931 - accuracy: 0.9659 - val_loss: 0.3447 - val_accuracy: 0.9034\n",
            "Epoch 18/40\n",
            "8/8 [==============================] - 1s 98ms/step - loss: 0.0830 - accuracy: 0.9799 - val_loss: 0.3334 - val_accuracy: 0.9091\n",
            "Epoch 19/40\n",
            "8/8 [==============================] - ETA: 0s - loss: 0.0850 - accuracy: 0.9689Restoring model weights from the end of the best epoch: 13.\n",
            "8/8 [==============================] - 1s 105ms/step - loss: 0.0850 - accuracy: 0.9689 - val_loss: 0.3293 - val_accuracy: 0.9148\n",
            "Epoch 00019: early stopping\n"
          ]
        }
      ]
    },
    {
      "cell_type": "code",
      "source": [
        "loss_value , accuracy = model.evaluate(x_test, y_test)\n",
        "\n",
        "print('Test_loss_value = ' +str(loss_value))\n",
        "print('test_accuracy = ' + str(accuracy))"
      ],
      "metadata": {
        "id": "0ltXArKUOYET",
        "colab": {
          "base_uri": "https://localhost:8080/"
        },
        "outputId": "a444af88-474b-471c-9480-76628fff58d1"
      },
      "execution_count": null,
      "outputs": [
        {
          "output_type": "stream",
          "name": "stdout",
          "text": [
            "7/7 [==============================] - 2s 112ms/step - loss: 0.2987 - accuracy: 0.9179\n",
            "Test_loss_value = 0.2986755669116974\n",
            "test_accuracy = 0.9178743958473206\n"
          ]
        }
      ]
    },
    {
      "cell_type": "code",
      "source": [
        "#%% PLOTTING RESULTS (Train vs Validation)\n",
        "import matplotlib.pyplot as plt\n",
        "def Train_Val_Plot(acc,val_acc,loss,val_loss):\n",
        "    \n",
        "    fig, (ax1, ax2) = plt.subplots(1,2, figsize= (15,10))\n",
        "    fig.suptitle(\" MODEL'S METRICS VISUALIZATION \")\n",
        "\n",
        "    ax1.plot(range(1, len(acc) + 1), acc)\n",
        "    ax1.plot(range(1, len(val_acc) + 1), val_acc)\n",
        "    ax1.set_title('History of Accuracy')\n",
        "    ax1.set_xlabel('Epochs')\n",
        "    ax1.set_ylabel('Accuracy')\n",
        "    ax1.legend(['training', 'validation'])\n",
        "\n",
        "\n",
        "    ax2.plot(range(1, len(loss) + 1), loss)\n",
        "    ax2.plot(range(1, len(val_loss) + 1), val_loss)\n",
        "    ax2.set_title('History of Loss')\n",
        "    ax2.set_xlabel('Epochs')\n",
        "    ax2.set_ylabel('Loss')\n",
        "    ax2.legend(['training', 'validation'])\n",
        "    plt.show()\n",
        "    \n",
        "\n",
        "Train_Val_Plot(history.history['accuracy'],history.history['val_accuracy'],\n",
        "               history.history['loss'],history.history['val_loss'])"
      ],
      "metadata": {
        "id": "jYB2piF6OZSk",
        "colab": {
          "base_uri": "https://localhost:8080/",
          "height": 676
        },
        "outputId": "738b416c-ea24-46ee-b188-469fd515b1f0"
      },
      "execution_count": null,
      "outputs": [
        {
          "output_type": "display_data",
          "data": {
            "image/png": "[encoded data removed]",
            "text/plain": [
              "<Figure size 1080x720 with 2 Axes>"
            ]
          },
          "metadata": {
            "needs_background": "light"
          }
        }
      ]
    },
    {
      "cell_type": "code",
      "source": [
        "predictions = model.predict(x_test)\n",
        "y_pred = [np.argmax(w) for w in predictions]"
      ],
      "metadata": {
        "id": "xDGN5CFyO2WS"
      },
      "execution_count": null,
      "outputs": []
    },
    {
      "cell_type": "code",
      "source": [
        "predictions"
      ],
      "metadata": {
        "id": "6kcFzaK8odcs",
        "colab": {
          "base_uri": "https://localhost:8080/"
        },
        "outputId": "9bb55083-d951-4199-e3e7-b2f5c7c0d204"
      },
      "execution_count": null,
      "outputs": [
        {
          "output_type": "execute_result",
          "data": {
            "text/plain": [
              "array([[9.99999881e-01, 1.64392347e-07],\n",
              "       [1.09877512e-02, 9.89012241e-01],\n",
              "       [7.24414887e-04, 9.99275625e-01],\n",
              "       [1.42522243e-08, 1.00000000e+00],\n",
              "       [5.42026071e-04, 9.99458015e-01],\n",
              "       [1.13398978e-11, 1.00000000e+00],\n",
              "       [1.00000000e+00, 1.35963934e-17],\n",
              "       [1.00000000e+00, 2.48770711e-08],\n",
              "       [9.99920487e-01, 7.95639135e-05],\n",
              "       [1.18481103e-05, 9.99988198e-01],\n",
              "       [5.35164357e-09, 1.00000000e+00],\n",
              "       [9.99999046e-01, 9.05733089e-07],\n",
              "       [1.86661313e-24, 1.00000000e+00],\n",
              "       [9.96747494e-01, 3.25246667e-03],\n",
              "       [3.23999557e-03, 9.96760070e-01],\n",
              "       [9.56104632e-05, 9.99904394e-01],\n",
              "       [3.05887697e-05, 9.99969363e-01],\n",
              "       [1.00000000e+00, 7.32548736e-15],\n",
              "       [1.73087501e-05, 9.99982715e-01],\n",
              "       [4.46610065e-05, 9.99955297e-01],\n",
              "       [9.93710995e-01, 6.28901133e-03],\n",
              "       [1.00000000e+00, 5.19901271e-21],\n",
              "       [1.02464058e-22, 1.00000000e+00],\n",
              "       [9.99892712e-01, 1.07329914e-04],\n",
              "       [8.24978709e-01, 1.75021276e-01],\n",
              "       [3.94443870e-01, 6.05556130e-01],\n",
              "       [4.11564969e-07, 9.99999642e-01],\n",
              "       [8.71045690e-04, 9.99128997e-01],\n",
              "       [6.74780132e-03, 9.93252218e-01],\n",
              "       [1.44086761e-12, 1.00000000e+00],\n",
              "       [9.99816358e-01, 1.83610449e-04],\n",
              "       [6.57923366e-16, 1.00000000e+00],\n",
              "       [6.95077538e-01, 3.04922432e-01],\n",
              "       [3.77248041e-03, 9.96227503e-01],\n",
              "       [9.99874592e-01, 1.25409002e-04],\n",
              "       [1.02537905e-03, 9.98974681e-01],\n",
              "       [9.99574363e-01, 4.25666629e-04],\n",
              "       [6.11666262e-01, 3.88333738e-01],\n",
              "       [9.99986649e-01, 1.33032809e-05],\n",
              "       [9.42198996e-14, 1.00000000e+00],\n",
              "       [1.00000000e+00, 3.46252405e-13],\n",
              "       [6.19340967e-03, 9.93806601e-01],\n",
              "       [9.11646187e-02, 9.08835411e-01],\n",
              "       [9.99025583e-01, 9.74435592e-04],\n",
              "       [1.34120037e-05, 9.99986529e-01],\n",
              "       [3.37931901e-01, 6.62068069e-01],\n",
              "       [9.99931812e-01, 6.81419551e-05],\n",
              "       [9.90730226e-01, 9.26978234e-03],\n",
              "       [7.15214377e-09, 1.00000000e+00],\n",
              "       [1.00000000e+00, 2.01943084e-08],\n",
              "       [1.00000000e+00, 5.52661161e-09],\n",
              "       [9.12185897e-07, 9.99999046e-01],\n",
              "       [1.00000000e+00, 2.67554056e-12],\n",
              "       [1.00000000e+00, 1.32082500e-09],\n",
              "       [3.36822588e-03, 9.96631801e-01],\n",
              "       [4.70710916e-07, 9.99999523e-01],\n",
              "       [7.51440239e-05, 9.99924898e-01],\n",
              "       [4.15019240e-05, 9.99958515e-01],\n",
              "       [3.37931901e-01, 6.62068069e-01],\n",
              "       [2.20115029e-12, 1.00000000e+00],\n",
              "       [9.36821699e-01, 6.31783232e-02],\n",
              "       [1.00000000e+00, 8.09363080e-12],\n",
              "       [9.97156382e-01, 2.84366286e-03],\n",
              "       [1.00000000e+00, 7.90204126e-27],\n",
              "       [9.95504558e-01, 4.49541910e-03],\n",
              "       [9.15381372e-01, 8.46185684e-02],\n",
              "       [2.43856690e-23, 1.00000000e+00],\n",
              "       [9.99998569e-01, 1.47228741e-06],\n",
              "       [3.59054245e-11, 1.00000000e+00],\n",
              "       [1.00000000e+00, 1.99817045e-19],\n",
              "       [9.99999881e-01, 9.97677745e-08],\n",
              "       [2.49908790e-01, 7.50091195e-01],\n",
              "       [1.08675101e-06, 9.99998927e-01],\n",
              "       [9.99982238e-01, 1.78081118e-05],\n",
              "       [6.48203059e-15, 1.00000000e+00],\n",
              "       [9.99918103e-01, 8.18867557e-05],\n",
              "       [1.00000000e+00, 1.80049575e-08],\n",
              "       [9.13800478e-01, 8.61995444e-02],\n",
              "       [9.00279403e-01, 9.97206196e-02],\n",
              "       [5.27508163e-23, 1.00000000e+00],\n",
              "       [9.95152712e-01, 4.84731607e-03],\n",
              "       [1.00000000e+00, 1.13869590e-21],\n",
              "       [1.00000000e+00, 2.72763201e-10],\n",
              "       [7.24414887e-04, 9.99275625e-01],\n",
              "       [1.00000000e+00, 2.49598398e-10],\n",
              "       [8.25643969e-13, 1.00000000e+00],\n",
              "       [4.41959047e-09, 1.00000000e+00],\n",
              "       [8.25845778e-01, 1.74154222e-01],\n",
              "       [5.30016840e-01, 4.69983190e-01],\n",
              "       [9.99995112e-01, 4.93956031e-06],\n",
              "       [3.35641271e-05, 9.99966383e-01],\n",
              "       [9.99998927e-01, 1.09417726e-06],\n",
              "       [6.74368650e-09, 1.00000000e+00],\n",
              "       [9.99927759e-01, 7.22022669e-05],\n",
              "       [1.00000000e+00, 5.43028304e-20],\n",
              "       [1.00000000e+00, 1.89645655e-09],\n",
              "       [2.11981427e-28, 1.00000000e+00],\n",
              "       [5.04865423e-02, 9.49513495e-01],\n",
              "       [1.00000000e+00, 3.21463437e-14],\n",
              "       [8.46614316e-02, 9.15338516e-01],\n",
              "       [1.04054205e-01, 8.95945787e-01],\n",
              "       [1.00000000e+00, 3.85666542e-17],\n",
              "       [8.71600700e-04, 9.99128401e-01],\n",
              "       [9.99999404e-01, 6.17819126e-07],\n",
              "       [7.76886333e-10, 1.00000000e+00],\n",
              "       [6.56084507e-04, 9.99343932e-01],\n",
              "       [9.76544917e-01, 2.34550312e-02],\n",
              "       [3.08689283e-04, 9.99691367e-01],\n",
              "       [4.98928854e-09, 1.00000000e+00],\n",
              "       [7.61362344e-07, 9.99999285e-01],\n",
              "       [6.43644058e-17, 1.00000000e+00],\n",
              "       [1.00000000e+00, 3.12478488e-09],\n",
              "       [3.51869548e-03, 9.96481299e-01],\n",
              "       [9.99995589e-01, 4.35743686e-06],\n",
              "       [1.00000000e+00, 1.38382472e-09],\n",
              "       [1.00000000e+00, 2.06216207e-11],\n",
              "       [1.00000000e+00, 1.29448062e-16],\n",
              "       [9.99994278e-01, 5.70060729e-06],\n",
              "       [9.99256670e-01, 7.43365264e-04],\n",
              "       [1.00000000e+00, 1.20877364e-10],\n",
              "       [1.61460843e-02, 9.83853936e-01],\n",
              "       [9.94348586e-01, 5.65147540e-03],\n",
              "       [1.00000000e+00, 1.01465480e-09],\n",
              "       [3.75059486e-08, 1.00000000e+00],\n",
              "       [1.00000000e+00, 2.49598398e-10],\n",
              "       [5.60413464e-05, 9.99943972e-01],\n",
              "       [1.19411934e-05, 9.99988079e-01],\n",
              "       [1.00000000e+00, 5.73054848e-08],\n",
              "       [9.99999881e-01, 1.16508495e-07],\n",
              "       [9.99999762e-01, 1.83451675e-07],\n",
              "       [2.47081975e-03, 9.97529209e-01],\n",
              "       [9.99931812e-01, 6.81419551e-05],\n",
              "       [1.64694656e-02, 9.83530581e-01],\n",
              "       [2.45014496e-18, 1.00000000e+00],\n",
              "       [2.61489944e-11, 1.00000000e+00],\n",
              "       [4.01107900e-05, 9.99959946e-01],\n",
              "       [1.15899675e-01, 8.84100318e-01],\n",
              "       [6.74780132e-03, 9.93252218e-01],\n",
              "       [1.30053889e-16, 1.00000000e+00],\n",
              "       [5.75319469e-01, 4.24680561e-01],\n",
              "       [1.00000000e+00, 2.04533113e-10],\n",
              "       [8.57698278e-15, 1.00000000e+00],\n",
              "       [7.54362100e-06, 9.99992490e-01],\n",
              "       [7.68378959e-06, 9.99992371e-01],\n",
              "       [3.35641271e-05, 9.99966383e-01],\n",
              "       [1.00000000e+00, 2.85370026e-11],\n",
              "       [9.99482632e-01, 5.17386361e-04],\n",
              "       [1.85699842e-04, 9.99814332e-01],\n",
              "       [1.94392912e-02, 9.80560780e-01],\n",
              "       [1.00000000e+00, 2.85370026e-11],\n",
              "       [4.59736511e-02, 9.54026401e-01],\n",
              "       [1.22399535e-10, 1.00000000e+00],\n",
              "       [9.80815530e-01, 1.91845149e-02],\n",
              "       [1.00000000e+00, 9.93378295e-28],\n",
              "       [9.99647856e-01, 3.52107803e-04],\n",
              "       [1.20467194e-14, 1.00000000e+00],\n",
              "       [2.98291752e-10, 1.00000000e+00],\n",
              "       [1.00000000e+00, 2.90001462e-31],\n",
              "       [9.99920249e-01, 7.97697139e-05],\n",
              "       [1.71979875e-04, 9.99827981e-01],\n",
              "       [1.00000000e+00, 2.69635967e-20],\n",
              "       [6.34326600e-03, 9.93656695e-01],\n",
              "       [9.00279403e-01, 9.97206196e-02],\n",
              "       [9.99999881e-01, 7.69303412e-08],\n",
              "       [3.02766144e-01, 6.97233856e-01],\n",
              "       [1.00000000e+00, 9.45280638e-14],\n",
              "       [9.99349296e-01, 6.50706119e-04],\n",
              "       [5.31786727e-03, 9.94682133e-01],\n",
              "       [7.56987628e-09, 1.00000000e+00],\n",
              "       [1.54090123e-02, 9.84591007e-01],\n",
              "       [1.50394812e-20, 1.00000000e+00],\n",
              "       [9.99413729e-01, 5.86290204e-04],\n",
              "       [9.99884129e-01, 1.15802337e-04],\n",
              "       [1.00000000e+00, 1.36155072e-15],\n",
              "       [1.00000000e+00, 1.70535159e-08],\n",
              "       [9.83796537e-01, 1.62033811e-02],\n",
              "       [1.36863692e-02, 9.86313581e-01],\n",
              "       [3.40815336e-01, 6.59184694e-01],\n",
              "       [1.00000000e+00, 1.51649179e-10],\n",
              "       [1.56583866e-07, 9.99999881e-01],\n",
              "       [4.12786558e-12, 1.00000000e+00],\n",
              "       [9.65132654e-01, 3.48673612e-02],\n",
              "       [9.99998569e-01, 1.47228741e-06],\n",
              "       [9.73607183e-01, 2.63928585e-02],\n",
              "       [5.09714688e-08, 1.00000000e+00],\n",
              "       [9.99999881e-01, 8.39496224e-08],\n",
              "       [1.91552713e-17, 1.00000000e+00],\n",
              "       [8.88227105e-01, 1.11772895e-01],\n",
              "       [9.99839425e-01, 1.60589305e-04],\n",
              "       [9.84059930e-01, 1.59400441e-02],\n",
              "       [9.99999762e-01, 1.83451675e-07],\n",
              "       [8.97708014e-05, 9.99910235e-01],\n",
              "       [1.87578848e-06, 9.99998093e-01],\n",
              "       [2.11981427e-28, 1.00000000e+00],\n",
              "       [2.20762603e-02, 9.77923691e-01],\n",
              "       [9.34912682e-01, 6.50872588e-02],\n",
              "       [9.99687195e-01, 3.12775897e-04],\n",
              "       [9.99255598e-01, 7.44405552e-04],\n",
              "       [3.41549989e-17, 1.00000000e+00],\n",
              "       [9.99998927e-01, 1.09417726e-06],\n",
              "       [1.00000000e+00, 3.85084217e-14],\n",
              "       [6.45962396e-13, 1.00000000e+00],\n",
              "       [9.99979734e-01, 2.02798510e-05],\n",
              "       [1.00000000e+00, 5.19874942e-12],\n",
              "       [2.40480923e-03, 9.97595131e-01],\n",
              "       [1.60928313e-02, 9.83907223e-01],\n",
              "       [9.93710995e-01, 6.28901133e-03]], dtype=float32)"
            ]
          },
          "metadata": {},
          "execution_count": 25
        }
      ]
    },
    {
      "cell_type": "code",
      "source": [
        "y_test = [np.argmax(w) for w in y_test]"
      ],
      "metadata": {
        "id": "Y8z2sLwvO4hu"
      },
      "execution_count": null,
      "outputs": []
    },
    {
      "cell_type": "code",
      "source": [
        "cm1 = confusion_matrix(y_test, y_pred)\n",
        "plt.figure(figsize=(12, 6))\n",
        "plt.title('the confusion matrix of the model in the train')\n",
        "sns.heatmap(cm1, annot = True, fmt = 'g' ,vmin = 0, cmap = 'binary')"
      ],
      "metadata": {
        "id": "uLfEGA0kO7YQ",
        "colab": {
          "base_uri": "https://localhost:8080/",
          "height": 408
        },
        "outputId": "d30afa68-c5b7-4988-8c43-e9fa424088f6"
      },
      "execution_count": null,
      "outputs": [
        {
          "output_type": "execute_result",
          "data": {
            "text/plain": [
              "<matplotlib.axes._subplots.AxesSubplot at 0x7effb0048450>"
            ]
          },
          "metadata": {},
          "execution_count": 27
        },
        {
          "output_type": "display_data",
          "data": {
            "image/png": "[encoded data removed]",
            "text/plain": [
              "<Figure size 864x432 with 2 Axes>"
            ]
          },
          "metadata": {
            "needs_background": "light"
          }
        }
      ]
    },
    {
      "cell_type": "code",
      "source": [
        "label_mapping = {\n",
        "    0: 'M',\n",
        "    1: 'B'\n",
        "}\n",
        "\n",
        "classification_report_model = classification_report(y_test, y_pred, target_names=label_mapping.values())\n",
        "print(classification_report_model)"
      ],
      "metadata": {
        "id": "RiiDkAoHO_mc",
        "colab": {
          "base_uri": "https://localhost:8080/"
        },
        "outputId": "5b2eabc2-39b1-461e-eba3-b9f9559b7241"
      },
      "execution_count": null,
      "outputs": [
        {
          "output_type": "stream",
          "name": "stdout",
          "text": [
            "              precision    recall  f1-score   support\n",
            "\n",
            "           M       0.92      0.92      0.92       107\n",
            "           B       0.91      0.92      0.92       100\n",
            "\n",
            "    accuracy                           0.92       207\n",
            "   macro avg       0.92      0.92      0.92       207\n",
            "weighted avg       0.92      0.92      0.92       207\n",
            "\n"
          ]
        }
      ]
    },
    {
      "cell_type": "code",
      "source": [
        ""
      ],
      "metadata": {
        "id": "ZQ8o0ygWVtvi"
      },
      "execution_count": null,
      "outputs": []
    }
  ],
  "metadata": {
    "accelerator": "GPU",
    "colab": {
      "collapsed_sections": [],
      "name": "BreastCancer_Detection_CNN_Version2 .ipynb",
      "provenance": []
    },
    "kernelspec": {
      "display_name": "Python 3",
      "name": "python3"
    },
    "language_info": {
      "name": "python"
    }
  },
  "nbformat": 4,
  "nbformat_minor": 0
}